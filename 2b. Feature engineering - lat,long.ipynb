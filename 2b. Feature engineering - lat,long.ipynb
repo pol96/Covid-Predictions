{
 "cells": [
  {
   "cell_type": "code",
   "execution_count": 1,
   "metadata": {},
   "outputs": [],
   "source": [
    "%store -r data_merged"
   ]
  },
  {
   "cell_type": "code",
   "execution_count": 2,
   "metadata": {},
   "outputs": [],
   "source": [
    "df=data_merged.copy()"
   ]
  },
  {
   "cell_type": "code",
   "execution_count": 3,
   "metadata": {},
   "outputs": [
    {
     "data": {
      "text/html": [
       "<div>\n",
       "<style scoped>\n",
       "    .dataframe tbody tr th:only-of-type {\n",
       "        vertical-align: middle;\n",
       "    }\n",
       "\n",
       "    .dataframe tbody tr th {\n",
       "        vertical-align: top;\n",
       "    }\n",
       "\n",
       "    .dataframe thead th {\n",
       "        text-align: right;\n",
       "    }\n",
       "</style>\n",
       "<table border=\"1\" class=\"dataframe\">\n",
       "  <thead>\n",
       "    <tr style=\"text-align: right;\">\n",
       "      <th></th>\n",
       "      <th>date_code</th>\n",
       "      <th>date</th>\n",
       "      <th>day</th>\n",
       "      <th>month</th>\n",
       "      <th>country</th>\n",
       "      <th>country_prov</th>\n",
       "      <th>country_code</th>\n",
       "      <th>pop20</th>\n",
       "      <th>ppl_km</th>\n",
       "      <th>avg_age</th>\n",
       "      <th>urbanization</th>\n",
       "      <th>confirmed</th>\n",
       "      <th>deaths</th>\n",
       "      <th>recovered</th>\n",
       "      <th>active</th>\n",
       "    </tr>\n",
       "  </thead>\n",
       "  <tbody>\n",
       "    <tr>\n",
       "      <th>0</th>\n",
       "      <td>0</td>\n",
       "      <td>2020-01-22</td>\n",
       "      <td>22</td>\n",
       "      <td>1</td>\n",
       "      <td>China</td>\n",
       "      <td>China_Anhui</td>\n",
       "      <td>61</td>\n",
       "      <td>1439323776</td>\n",
       "      <td>153</td>\n",
       "      <td>38</td>\n",
       "      <td>61</td>\n",
       "      <td>1</td>\n",
       "      <td>0</td>\n",
       "      <td>0</td>\n",
       "      <td>1</td>\n",
       "    </tr>\n",
       "    <tr>\n",
       "      <th>1</th>\n",
       "      <td>0</td>\n",
       "      <td>2020-01-22</td>\n",
       "      <td>22</td>\n",
       "      <td>1</td>\n",
       "      <td>China</td>\n",
       "      <td>China_Beijing</td>\n",
       "      <td>62</td>\n",
       "      <td>1439323776</td>\n",
       "      <td>153</td>\n",
       "      <td>38</td>\n",
       "      <td>61</td>\n",
       "      <td>14</td>\n",
       "      <td>0</td>\n",
       "      <td>0</td>\n",
       "      <td>14</td>\n",
       "    </tr>\n",
       "    <tr>\n",
       "      <th>2</th>\n",
       "      <td>0</td>\n",
       "      <td>2020-01-22</td>\n",
       "      <td>22</td>\n",
       "      <td>1</td>\n",
       "      <td>China</td>\n",
       "      <td>China_Chongqing</td>\n",
       "      <td>63</td>\n",
       "      <td>1439323776</td>\n",
       "      <td>153</td>\n",
       "      <td>38</td>\n",
       "      <td>61</td>\n",
       "      <td>6</td>\n",
       "      <td>0</td>\n",
       "      <td>0</td>\n",
       "      <td>6</td>\n",
       "    </tr>\n",
       "    <tr>\n",
       "      <th>3</th>\n",
       "      <td>0</td>\n",
       "      <td>2020-01-22</td>\n",
       "      <td>22</td>\n",
       "      <td>1</td>\n",
       "      <td>China</td>\n",
       "      <td>China_Fujian</td>\n",
       "      <td>64</td>\n",
       "      <td>1439323776</td>\n",
       "      <td>153</td>\n",
       "      <td>38</td>\n",
       "      <td>61</td>\n",
       "      <td>1</td>\n",
       "      <td>0</td>\n",
       "      <td>0</td>\n",
       "      <td>1</td>\n",
       "    </tr>\n",
       "    <tr>\n",
       "      <th>4</th>\n",
       "      <td>0</td>\n",
       "      <td>2020-01-22</td>\n",
       "      <td>22</td>\n",
       "      <td>1</td>\n",
       "      <td>China</td>\n",
       "      <td>China_Gansu</td>\n",
       "      <td>65</td>\n",
       "      <td>1439323776</td>\n",
       "      <td>153</td>\n",
       "      <td>38</td>\n",
       "      <td>61</td>\n",
       "      <td>0</td>\n",
       "      <td>0</td>\n",
       "      <td>0</td>\n",
       "      <td>0</td>\n",
       "    </tr>\n",
       "  </tbody>\n",
       "</table>\n",
       "</div>"
      ],
      "text/plain": [
       "   date_code       date  day  month country     country_prov  country_code  \\\n",
       "0          0 2020-01-22   22      1   China      China_Anhui            61   \n",
       "1          0 2020-01-22   22      1   China    China_Beijing            62   \n",
       "2          0 2020-01-22   22      1   China  China_Chongqing            63   \n",
       "3          0 2020-01-22   22      1   China     China_Fujian            64   \n",
       "4          0 2020-01-22   22      1   China      China_Gansu            65   \n",
       "\n",
       "        pop20  ppl_km  avg_age  urbanization  confirmed  deaths  recovered  \\\n",
       "0  1439323776     153       38            61          1       0          0   \n",
       "1  1439323776     153       38            61         14       0          0   \n",
       "2  1439323776     153       38            61          6       0          0   \n",
       "3  1439323776     153       38            61          1       0          0   \n",
       "4  1439323776     153       38            61          0       0          0   \n",
       "\n",
       "   active  \n",
       "0       1  \n",
       "1      14  \n",
       "2       6  \n",
       "3       1  \n",
       "4       0  "
      ]
     },
     "execution_count": 3,
     "metadata": {},
     "output_type": "execute_result"
    }
   ],
   "source": [
    "df.head()"
   ]
  },
  {
   "cell_type": "code",
   "execution_count": 7,
   "metadata": {},
   "outputs": [
    {
     "data": {
      "text/plain": [
       "186"
      ]
     },
     "execution_count": 7,
     "metadata": {},
     "output_type": "execute_result"
    }
   ],
   "source": [
    "country=df['country'].unique()\n",
    "len(country)"
   ]
  },
  {
   "cell_type": "markdown",
   "metadata": {},
   "source": [
    "### Geocoders"
   ]
  },
  {
   "cell_type": "code",
   "execution_count": 8,
   "metadata": {},
   "outputs": [],
   "source": [
    "from geopy.geocoders import Nominatim\n",
    "    #https://pypi.org/project/geopy/\n",
    "geolocator = Nominatim(user_agent=\"my-app\", timeout=60)\n",
    "\n",
    "lat=[]\n",
    "long=[]\n",
    "for place in country: \n",
    "    location = geolocator.geocode(place)\n",
    "    lat.append(location.latitude)\n",
    "    long.append(location.longitude)\n"
   ]
  },
  {
   "cell_type": "code",
   "execution_count": 9,
   "metadata": {},
   "outputs": [
    {
     "ename": "NameError",
     "evalue": "name 'prov' is not defined",
     "output_type": "error",
     "traceback": [
      "\u001b[1;31m---------------------------------------------------------------------------\u001b[0m",
      "\u001b[1;31mNameError\u001b[0m                                 Traceback (most recent call last)",
      "\u001b[1;32m<ipython-input-9-a6a7d6fd3a1f>\u001b[0m in \u001b[0;36m<module>\u001b[1;34m\u001b[0m\n\u001b[0;32m      1\u001b[0m my_dict={\n\u001b[1;32m----> 2\u001b[1;33m     \u001b[1;34m'Province'\u001b[0m\u001b[1;33m:\u001b[0m\u001b[0mprov\u001b[0m\u001b[1;33m,\u001b[0m\u001b[1;33m\u001b[0m\u001b[1;33m\u001b[0m\u001b[0m\n\u001b[0m\u001b[0;32m      3\u001b[0m     \u001b[1;34m'Latitude_prov'\u001b[0m\u001b[1;33m:\u001b[0m \u001b[0mlat\u001b[0m\u001b[1;33m,\u001b[0m\u001b[1;33m\u001b[0m\u001b[1;33m\u001b[0m\u001b[0m\n\u001b[0;32m      4\u001b[0m     \u001b[1;34m'Longitude_prov'\u001b[0m\u001b[1;33m:\u001b[0m \u001b[0mlong\u001b[0m\u001b[1;33m\u001b[0m\u001b[1;33m\u001b[0m\u001b[0m\n\u001b[0;32m      5\u001b[0m }\n",
      "\u001b[1;31mNameError\u001b[0m: name 'prov' is not defined"
     ]
    }
   ],
   "source": [
    "my_dict={\n",
    "    'Province':prov,\n",
    "    'Latitude_prov': lat,\n",
    "    'Longitude_prov': long\n",
    "}"
   ]
  },
  {
   "cell_type": "markdown",
   "metadata": {},
   "source": [
    "coordinates per each state"
   ]
  },
  {
   "cell_type": "code",
   "execution_count": null,
   "metadata": {
    "scrolled": false
   },
   "outputs": [],
   "source": [
    "state_coord=pd.DataFrame(my_dict)\n",
    "state_coord.head()"
   ]
  },
  {
   "cell_type": "code",
   "execution_count": 25,
   "metadata": {},
   "outputs": [],
   "source": [
    "### not mandatory\n",
    "\n",
    "\n",
    "#state_coord.to_csv('prov_coord.csv')"
   ]
  },
  {
   "cell_type": "code",
   "execution_count": 26,
   "metadata": {},
   "outputs": [],
   "source": [
    "state_coord=pd.read_csv('csv/state_coord.csv', index_col=0)\n",
    "prov_coord=pd.read_csv('csv/prov_coord.csv',index_col=0)"
   ]
  },
  {
   "cell_type": "markdown",
   "metadata": {},
   "source": [
    "## final df"
   ]
  },
  {
   "cell_type": "code",
   "execution_count": 29,
   "metadata": {
    "scrolled": true
   },
   "outputs": [
    {
     "data": {
      "text/plain": [
       "update_date           0\n",
       "update_hour           0\n",
       "Update_datetime       0\n",
       "Country_Region        0\n",
       "Prov_State         3436\n",
       "Confirmed             0\n",
       "Deaths                0\n",
       "Recovered             0\n",
       "dtype: int64"
      ]
     },
     "execution_count": 29,
     "metadata": {},
     "output_type": "execute_result"
    }
   ],
   "source": [
    "df.isna().sum()"
   ]
  },
  {
   "cell_type": "code",
   "execution_count": 30,
   "metadata": {},
   "outputs": [],
   "source": [
    "df.Prov_State.fillna('unknown',inplace=True)"
   ]
  },
  {
   "cell_type": "code",
   "execution_count": 31,
   "metadata": {},
   "outputs": [],
   "source": [
    "df=df.merge(state_coord,how='left',left_on='Country_Region', right_on='State')"
   ]
  },
  {
   "cell_type": "code",
   "execution_count": 32,
   "metadata": {},
   "outputs": [],
   "source": [
    "df.drop(['State'],1,inplace=True)\n",
    "#df.head()"
   ]
  },
  {
   "cell_type": "code",
   "execution_count": 33,
   "metadata": {},
   "outputs": [],
   "source": [
    "df=df.merge(prov_coord,how='left',left_on='Prov_State', right_on='Province')"
   ]
  },
  {
   "cell_type": "code",
   "execution_count": 34,
   "metadata": {},
   "outputs": [],
   "source": [
    "df.drop(['Prov_State'],1,inplace=True)\n",
    "#df.head()"
   ]
  },
  {
   "cell_type": "code",
   "execution_count": 35,
   "metadata": {},
   "outputs": [
    {
     "data": {
      "text/plain": [
       "update_date           0\n",
       "update_hour           0\n",
       "Update_datetime       0\n",
       "Country_Region        0\n",
       "Confirmed             0\n",
       "Deaths                0\n",
       "Recovered             0\n",
       "Latitude              8\n",
       "Longitude             8\n",
       "Province           4523\n",
       "Latitude_prov      4523\n",
       "Longitude_prov     4523\n",
       "dtype: int64"
      ]
     },
     "execution_count": 35,
     "metadata": {},
     "output_type": "execute_result"
    }
   ],
   "source": [
    "df.isna().sum()"
   ]
  },
  {
   "cell_type": "code",
   "execution_count": 36,
   "metadata": {
    "scrolled": false
   },
   "outputs": [
    {
     "data": {
      "text/html": [
       "<div>\n",
       "<style scoped>\n",
       "    .dataframe tbody tr th:only-of-type {\n",
       "        vertical-align: middle;\n",
       "    }\n",
       "\n",
       "    .dataframe tbody tr th {\n",
       "        vertical-align: top;\n",
       "    }\n",
       "\n",
       "    .dataframe thead th {\n",
       "        text-align: right;\n",
       "    }\n",
       "</style>\n",
       "<table border=\"1\" class=\"dataframe\">\n",
       "  <thead>\n",
       "    <tr style=\"text-align: right;\">\n",
       "      <th></th>\n",
       "      <th>update_date</th>\n",
       "      <th>update_hour</th>\n",
       "      <th>Update_datetime</th>\n",
       "      <th>Country_Region</th>\n",
       "      <th>Prov_State</th>\n",
       "      <th>Latitude</th>\n",
       "      <th>Longitude</th>\n",
       "      <th>Latitude_prov</th>\n",
       "      <th>Longitude_prov</th>\n",
       "      <th>Confirmed</th>\n",
       "      <th>Deaths</th>\n",
       "      <th>Recovered</th>\n",
       "    </tr>\n",
       "  </thead>\n",
       "  <tbody>\n",
       "    <tr>\n",
       "      <th>0</th>\n",
       "      <td>2020-01-22</td>\n",
       "      <td>17:00:00</td>\n",
       "      <td>2020-01-22 17:00:00</td>\n",
       "      <td>China</td>\n",
       "      <td>Anhui</td>\n",
       "      <td>35.000074</td>\n",
       "      <td>104.999927</td>\n",
       "      <td>32.000000</td>\n",
       "      <td>117.000000</td>\n",
       "      <td>1</td>\n",
       "      <td>0</td>\n",
       "      <td>0</td>\n",
       "    </tr>\n",
       "    <tr>\n",
       "      <th>1</th>\n",
       "      <td>2020-01-22</td>\n",
       "      <td>17:00:00</td>\n",
       "      <td>2020-01-22 17:00:00</td>\n",
       "      <td>China</td>\n",
       "      <td>Beijing</td>\n",
       "      <td>35.000074</td>\n",
       "      <td>104.999927</td>\n",
       "      <td>39.906217</td>\n",
       "      <td>116.391276</td>\n",
       "      <td>14</td>\n",
       "      <td>0</td>\n",
       "      <td>0</td>\n",
       "    </tr>\n",
       "    <tr>\n",
       "      <th>2</th>\n",
       "      <td>2020-01-22</td>\n",
       "      <td>17:00:00</td>\n",
       "      <td>2020-01-22 17:00:00</td>\n",
       "      <td>China</td>\n",
       "      <td>Chongqing</td>\n",
       "      <td>35.000074</td>\n",
       "      <td>104.999927</td>\n",
       "      <td>29.558571</td>\n",
       "      <td>106.549282</td>\n",
       "      <td>6</td>\n",
       "      <td>0</td>\n",
       "      <td>0</td>\n",
       "    </tr>\n",
       "    <tr>\n",
       "      <th>3</th>\n",
       "      <td>2020-01-22</td>\n",
       "      <td>17:00:00</td>\n",
       "      <td>2020-01-22 17:00:00</td>\n",
       "      <td>China</td>\n",
       "      <td>Fujian</td>\n",
       "      <td>35.000074</td>\n",
       "      <td>104.999927</td>\n",
       "      <td>26.545000</td>\n",
       "      <td>117.842778</td>\n",
       "      <td>1</td>\n",
       "      <td>0</td>\n",
       "      <td>0</td>\n",
       "    </tr>\n",
       "    <tr>\n",
       "      <th>4</th>\n",
       "      <td>2020-01-22</td>\n",
       "      <td>17:00:00</td>\n",
       "      <td>2020-01-22 17:00:00</td>\n",
       "      <td>China</td>\n",
       "      <td>Gansu</td>\n",
       "      <td>35.000074</td>\n",
       "      <td>104.999927</td>\n",
       "      <td>38.000000</td>\n",
       "      <td>102.000000</td>\n",
       "      <td>0</td>\n",
       "      <td>0</td>\n",
       "      <td>0</td>\n",
       "    </tr>\n",
       "  </tbody>\n",
       "</table>\n",
       "</div>"
      ],
      "text/plain": [
       "  update_date update_hour     Update_datetime Country_Region Prov_State  \\\n",
       "0  2020-01-22    17:00:00 2020-01-22 17:00:00          China      Anhui   \n",
       "1  2020-01-22    17:00:00 2020-01-22 17:00:00          China    Beijing   \n",
       "2  2020-01-22    17:00:00 2020-01-22 17:00:00          China  Chongqing   \n",
       "3  2020-01-22    17:00:00 2020-01-22 17:00:00          China     Fujian   \n",
       "4  2020-01-22    17:00:00 2020-01-22 17:00:00          China      Gansu   \n",
       "\n",
       "    Latitude   Longitude  Latitude_prov  Longitude_prov  Confirmed  Deaths  \\\n",
       "0  35.000074  104.999927      32.000000      117.000000          1       0   \n",
       "1  35.000074  104.999927      39.906217      116.391276         14       0   \n",
       "2  35.000074  104.999927      29.558571      106.549282          6       0   \n",
       "3  35.000074  104.999927      26.545000      117.842778          1       0   \n",
       "4  35.000074  104.999927      38.000000      102.000000          0       0   \n",
       "\n",
       "   Recovered  \n",
       "0          0  \n",
       "1          0  \n",
       "2          0  \n",
       "3          0  \n",
       "4          0  "
      ]
     },
     "execution_count": 36,
     "metadata": {},
     "output_type": "execute_result"
    }
   ],
   "source": [
    "df=df[['update_date','update_hour','Update_datetime','Country_Region','Province','Latitude','Longitude',\n",
    "      'Latitude_prov','Longitude_prov','Confirmed','Deaths','Recovered']]\n",
    "df.columns=['update_date','update_hour','Update_datetime','Country_Region','Prov_State','Latitude','Longitude',\n",
    "      'Latitude_prov','Longitude_prov','Confirmed','Deaths','Recovered']\n",
    "df.head()"
   ]
  },
  {
   "cell_type": "code",
   "execution_count": 37,
   "metadata": {},
   "outputs": [],
   "source": [
    "df.Latitude_prov.fillna(value=df.Latitude,inplace=True)\n",
    "df.Longitude_prov.fillna(value=df.Longitude,inplace=True)"
   ]
  },
  {
   "cell_type": "code",
   "execution_count": 38,
   "metadata": {},
   "outputs": [],
   "source": [
    "df.drop(['Latitude','Longitude'],1,inplace=True)"
   ]
  },
  {
   "cell_type": "code",
   "execution_count": 39,
   "metadata": {},
   "outputs": [],
   "source": [
    "df.columns=['update_date','update_hour','Update_datetime','Country_Region','Prov_State','Latitude','Longitude',\n",
    "            'Confirmed','Deaths','Recovered']"
   ]
  },
  {
   "cell_type": "code",
   "execution_count": 44,
   "metadata": {
    "scrolled": true
   },
   "outputs": [
    {
     "data": {
      "text/html": [
       "<div>\n",
       "<style scoped>\n",
       "    .dataframe tbody tr th:only-of-type {\n",
       "        vertical-align: middle;\n",
       "    }\n",
       "\n",
       "    .dataframe tbody tr th {\n",
       "        vertical-align: top;\n",
       "    }\n",
       "\n",
       "    .dataframe thead th {\n",
       "        text-align: right;\n",
       "    }\n",
       "</style>\n",
       "<table border=\"1\" class=\"dataframe\">\n",
       "  <thead>\n",
       "    <tr style=\"text-align: right;\">\n",
       "      <th></th>\n",
       "      <th>update_date</th>\n",
       "      <th>update_hour</th>\n",
       "      <th>Update_datetime</th>\n",
       "      <th>Country_Region</th>\n",
       "      <th>Prov_State</th>\n",
       "      <th>Latitude</th>\n",
       "      <th>Longitude</th>\n",
       "      <th>Confirmed</th>\n",
       "      <th>Deaths</th>\n",
       "      <th>Recovered</th>\n",
       "    </tr>\n",
       "  </thead>\n",
       "  <tbody>\n",
       "    <tr>\n",
       "      <th>0</th>\n",
       "      <td>2020-01-22</td>\n",
       "      <td>17:00:00</td>\n",
       "      <td>2020-01-22 17:00:00</td>\n",
       "      <td>China</td>\n",
       "      <td>Anhui</td>\n",
       "      <td>32.000000</td>\n",
       "      <td>117.000000</td>\n",
       "      <td>1</td>\n",
       "      <td>0</td>\n",
       "      <td>0</td>\n",
       "    </tr>\n",
       "    <tr>\n",
       "      <th>1</th>\n",
       "      <td>2020-01-22</td>\n",
       "      <td>17:00:00</td>\n",
       "      <td>2020-01-22 17:00:00</td>\n",
       "      <td>China</td>\n",
       "      <td>Beijing</td>\n",
       "      <td>39.906217</td>\n",
       "      <td>116.391276</td>\n",
       "      <td>14</td>\n",
       "      <td>0</td>\n",
       "      <td>0</td>\n",
       "    </tr>\n",
       "    <tr>\n",
       "      <th>2</th>\n",
       "      <td>2020-01-22</td>\n",
       "      <td>17:00:00</td>\n",
       "      <td>2020-01-22 17:00:00</td>\n",
       "      <td>China</td>\n",
       "      <td>Chongqing</td>\n",
       "      <td>29.558571</td>\n",
       "      <td>106.549282</td>\n",
       "      <td>6</td>\n",
       "      <td>0</td>\n",
       "      <td>0</td>\n",
       "    </tr>\n",
       "    <tr>\n",
       "      <th>3</th>\n",
       "      <td>2020-01-22</td>\n",
       "      <td>17:00:00</td>\n",
       "      <td>2020-01-22 17:00:00</td>\n",
       "      <td>China</td>\n",
       "      <td>Fujian</td>\n",
       "      <td>26.545000</td>\n",
       "      <td>117.842778</td>\n",
       "      <td>1</td>\n",
       "      <td>0</td>\n",
       "      <td>0</td>\n",
       "    </tr>\n",
       "    <tr>\n",
       "      <th>4</th>\n",
       "      <td>2020-01-22</td>\n",
       "      <td>17:00:00</td>\n",
       "      <td>2020-01-22 17:00:00</td>\n",
       "      <td>China</td>\n",
       "      <td>Gansu</td>\n",
       "      <td>38.000000</td>\n",
       "      <td>102.000000</td>\n",
       "      <td>0</td>\n",
       "      <td>0</td>\n",
       "      <td>0</td>\n",
       "    </tr>\n",
       "    <tr>\n",
       "      <th>...</th>\n",
       "      <td>...</td>\n",
       "      <td>...</td>\n",
       "      <td>...</td>\n",
       "      <td>...</td>\n",
       "      <td>...</td>\n",
       "      <td>...</td>\n",
       "      <td>...</td>\n",
       "      <td>...</td>\n",
       "      <td>...</td>\n",
       "      <td>...</td>\n",
       "    </tr>\n",
       "    <tr>\n",
       "      <th>7772</th>\n",
       "      <td>2020-03-11</td>\n",
       "      <td>02:18:14</td>\n",
       "      <td>2020-03-11 02:18:14</td>\n",
       "      <td>China</td>\n",
       "      <td>Xinjiang</td>\n",
       "      <td>41.757477</td>\n",
       "      <td>87.167384</td>\n",
       "      <td>76</td>\n",
       "      <td>3</td>\n",
       "      <td>73</td>\n",
       "    </tr>\n",
       "    <tr>\n",
       "      <th>7774</th>\n",
       "      <td>2020-03-19</td>\n",
       "      <td>01:03:02</td>\n",
       "      <td>2020-03-19 01:03:02</td>\n",
       "      <td>China</td>\n",
       "      <td>Inner Mongolia</td>\n",
       "      <td>43.244324</td>\n",
       "      <td>114.325166</td>\n",
       "      <td>75</td>\n",
       "      <td>1</td>\n",
       "      <td>74</td>\n",
       "    </tr>\n",
       "    <tr>\n",
       "      <th>7775</th>\n",
       "      <td>2020-03-16</td>\n",
       "      <td>14:38:45</td>\n",
       "      <td>2020-03-16 14:38:45</td>\n",
       "      <td>China</td>\n",
       "      <td>Ningxia</td>\n",
       "      <td>37.000000</td>\n",
       "      <td>106.000000</td>\n",
       "      <td>75</td>\n",
       "      <td>0</td>\n",
       "      <td>75</td>\n",
       "    </tr>\n",
       "    <tr>\n",
       "      <th>7830</th>\n",
       "      <td>2020-03-11</td>\n",
       "      <td>02:18:14</td>\n",
       "      <td>2020-03-11 02:18:14</td>\n",
       "      <td>China</td>\n",
       "      <td>Qinghai</td>\n",
       "      <td>35.407095</td>\n",
       "      <td>95.952116</td>\n",
       "      <td>18</td>\n",
       "      <td>0</td>\n",
       "      <td>18</td>\n",
       "    </tr>\n",
       "    <tr>\n",
       "      <th>7894</th>\n",
       "      <td>2020-03-11</td>\n",
       "      <td>02:18:14</td>\n",
       "      <td>2020-03-11 02:18:14</td>\n",
       "      <td>China</td>\n",
       "      <td>Tibet</td>\n",
       "      <td>31.894343</td>\n",
       "      <td>87.078137</td>\n",
       "      <td>1</td>\n",
       "      <td>0</td>\n",
       "      <td>1</td>\n",
       "    </tr>\n",
       "  </tbody>\n",
       "</table>\n",
       "<p>1889 rows × 10 columns</p>\n",
       "</div>"
      ],
      "text/plain": [
       "     update_date update_hour     Update_datetime Country_Region  \\\n",
       "0     2020-01-22    17:00:00 2020-01-22 17:00:00          China   \n",
       "1     2020-01-22    17:00:00 2020-01-22 17:00:00          China   \n",
       "2     2020-01-22    17:00:00 2020-01-22 17:00:00          China   \n",
       "3     2020-01-22    17:00:00 2020-01-22 17:00:00          China   \n",
       "4     2020-01-22    17:00:00 2020-01-22 17:00:00          China   \n",
       "...          ...         ...                 ...            ...   \n",
       "7772  2020-03-11    02:18:14 2020-03-11 02:18:14          China   \n",
       "7774  2020-03-19    01:03:02 2020-03-19 01:03:02          China   \n",
       "7775  2020-03-16    14:38:45 2020-03-16 14:38:45          China   \n",
       "7830  2020-03-11    02:18:14 2020-03-11 02:18:14          China   \n",
       "7894  2020-03-11    02:18:14 2020-03-11 02:18:14          China   \n",
       "\n",
       "          Prov_State   Latitude   Longitude  Confirmed  Deaths  Recovered  \n",
       "0              Anhui  32.000000  117.000000          1       0          0  \n",
       "1            Beijing  39.906217  116.391276         14       0          0  \n",
       "2          Chongqing  29.558571  106.549282          6       0          0  \n",
       "3             Fujian  26.545000  117.842778          1       0          0  \n",
       "4              Gansu  38.000000  102.000000          0       0          0  \n",
       "...              ...        ...         ...        ...     ...        ...  \n",
       "7772        Xinjiang  41.757477   87.167384         76       3         73  \n",
       "7774  Inner Mongolia  43.244324  114.325166         75       1         74  \n",
       "7775         Ningxia  37.000000  106.000000         75       0         75  \n",
       "7830         Qinghai  35.407095   95.952116         18       0         18  \n",
       "7894           Tibet  31.894343   87.078137          1       0          1  \n",
       "\n",
       "[1889 rows x 10 columns]"
      ]
     },
     "execution_count": 44,
     "metadata": {},
     "output_type": "execute_result"
    }
   ],
   "source": [
    "df[df['Country_Region']=='China']"
   ]
  },
  {
   "cell_type": "markdown",
   "metadata": {},
   "source": [
    "Latitude and Longitude per each province (if there is, otherwise County latitude and longitude)"
   ]
  },
  {
   "cell_type": "code",
   "execution_count": 41,
   "metadata": {},
   "outputs": [],
   "source": [
    "#df.to_csv('cleanedDF.csv')"
   ]
  },
  {
   "cell_type": "code",
   "execution_count": 42,
   "metadata": {},
   "outputs": [
    {
     "name": "stdout",
     "output_type": "stream",
     "text": [
      "Stored 'df' (DataFrame)\n"
     ]
    }
   ],
   "source": [
    "%store df"
   ]
  },
  {
   "cell_type": "code",
   "execution_count": null,
   "metadata": {},
   "outputs": [],
   "source": []
  }
 ],
 "metadata": {
  "kernelspec": {
   "display_name": "Python 3",
   "language": "python",
   "name": "python3"
  },
  "language_info": {
   "codemirror_mode": {
    "name": "ipython",
    "version": 3
   },
   "file_extension": ".py",
   "mimetype": "text/x-python",
   "name": "python",
   "nbconvert_exporter": "python",
   "pygments_lexer": "ipython3",
   "version": "3.7.4"
  }
 },
 "nbformat": 4,
 "nbformat_minor": 4
}
