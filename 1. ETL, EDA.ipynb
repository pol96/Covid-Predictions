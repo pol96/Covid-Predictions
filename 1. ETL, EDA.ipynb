{
 "cells": [
  {
   "cell_type": "code",
   "execution_count": 1,
   "metadata": {},
   "outputs": [],
   "source": [
    "import numpy as np\n",
    "import matplotlib.pyplot as plt\n",
    "import seaborn as sns\n",
    "import pandas as pd\n",
    "\n",
    "#import pandas_profiling as profile"
   ]
  },
  {
   "cell_type": "markdown",
   "metadata": {},
   "source": [
    "# ETL -- Extract, Transform, Load processes"
   ]
  },
  {
   "cell_type": "code",
   "execution_count": 2,
   "metadata": {},
   "outputs": [],
   "source": [
    "df=pd.read_csv('covid_19_data.csv', index_col=0)\n",
    "ppl=pd.read_csv('population_by_country_2020.csv')"
   ]
  },
  {
   "cell_type": "markdown",
   "metadata": {},
   "source": [
    "## Working on DF"
   ]
  },
  {
   "cell_type": "code",
   "execution_count": 3,
   "metadata": {},
   "outputs": [],
   "source": [
    "df.Confirmed=df.Confirmed.astype(int)\n",
    "df.Deaths=df.Deaths.astype(int)\n",
    "df.Recovered=df.Recovered.astype(int)"
   ]
  },
  {
   "cell_type": "code",
   "execution_count": 4,
   "metadata": {},
   "outputs": [],
   "source": [
    "df['Active']=df.Confirmed-df.Deaths-df.Recovered"
   ]
  },
  {
   "cell_type": "code",
   "execution_count": 5,
   "metadata": {
    "scrolled": false
   },
   "outputs": [
    {
     "name": "stdout",
     "output_type": "stream",
     "text": [
      "(7926, 8)\n",
      "Int64Index([   1,    2,    3,    4,    5,    6,    7,    8,    9,   10,\n",
      "            ...\n",
      "            7917, 7918, 7919, 7920, 7921, 7922, 7923, 7924, 7925, 7926],\n",
      "           dtype='int64', name='SNo', length=7926)\n"
     ]
    },
    {
     "data": {
      "text/html": [
       "<div>\n",
       "<style scoped>\n",
       "    .dataframe tbody tr th:only-of-type {\n",
       "        vertical-align: middle;\n",
       "    }\n",
       "\n",
       "    .dataframe tbody tr th {\n",
       "        vertical-align: top;\n",
       "    }\n",
       "\n",
       "    .dataframe thead th {\n",
       "        text-align: right;\n",
       "    }\n",
       "</style>\n",
       "<table border=\"1\" class=\"dataframe\">\n",
       "  <thead>\n",
       "    <tr style=\"text-align: right;\">\n",
       "      <th></th>\n",
       "      <th>ObservationDate</th>\n",
       "      <th>Province/State</th>\n",
       "      <th>Country/Region</th>\n",
       "      <th>Last Update</th>\n",
       "      <th>Confirmed</th>\n",
       "      <th>Deaths</th>\n",
       "      <th>Recovered</th>\n",
       "      <th>Active</th>\n",
       "    </tr>\n",
       "    <tr>\n",
       "      <th>SNo</th>\n",
       "      <th></th>\n",
       "      <th></th>\n",
       "      <th></th>\n",
       "      <th></th>\n",
       "      <th></th>\n",
       "      <th></th>\n",
       "      <th></th>\n",
       "      <th></th>\n",
       "    </tr>\n",
       "  </thead>\n",
       "  <tbody>\n",
       "    <tr>\n",
       "      <th>1</th>\n",
       "      <td>01/22/2020</td>\n",
       "      <td>Anhui</td>\n",
       "      <td>Mainland China</td>\n",
       "      <td>1/22/2020 17:00</td>\n",
       "      <td>1</td>\n",
       "      <td>0</td>\n",
       "      <td>0</td>\n",
       "      <td>1</td>\n",
       "    </tr>\n",
       "    <tr>\n",
       "      <th>2</th>\n",
       "      <td>01/22/2020</td>\n",
       "      <td>Beijing</td>\n",
       "      <td>Mainland China</td>\n",
       "      <td>1/22/2020 17:00</td>\n",
       "      <td>14</td>\n",
       "      <td>0</td>\n",
       "      <td>0</td>\n",
       "      <td>14</td>\n",
       "    </tr>\n",
       "    <tr>\n",
       "      <th>3</th>\n",
       "      <td>01/22/2020</td>\n",
       "      <td>Chongqing</td>\n",
       "      <td>Mainland China</td>\n",
       "      <td>1/22/2020 17:00</td>\n",
       "      <td>6</td>\n",
       "      <td>0</td>\n",
       "      <td>0</td>\n",
       "      <td>6</td>\n",
       "    </tr>\n",
       "    <tr>\n",
       "      <th>4</th>\n",
       "      <td>01/22/2020</td>\n",
       "      <td>Fujian</td>\n",
       "      <td>Mainland China</td>\n",
       "      <td>1/22/2020 17:00</td>\n",
       "      <td>1</td>\n",
       "      <td>0</td>\n",
       "      <td>0</td>\n",
       "      <td>1</td>\n",
       "    </tr>\n",
       "    <tr>\n",
       "      <th>5</th>\n",
       "      <td>01/22/2020</td>\n",
       "      <td>Gansu</td>\n",
       "      <td>Mainland China</td>\n",
       "      <td>1/22/2020 17:00</td>\n",
       "      <td>0</td>\n",
       "      <td>0</td>\n",
       "      <td>0</td>\n",
       "      <td>0</td>\n",
       "    </tr>\n",
       "  </tbody>\n",
       "</table>\n",
       "</div>"
      ],
      "text/plain": [
       "    ObservationDate Province/State  Country/Region      Last Update  \\\n",
       "SNo                                                                   \n",
       "1        01/22/2020          Anhui  Mainland China  1/22/2020 17:00   \n",
       "2        01/22/2020        Beijing  Mainland China  1/22/2020 17:00   \n",
       "3        01/22/2020      Chongqing  Mainland China  1/22/2020 17:00   \n",
       "4        01/22/2020         Fujian  Mainland China  1/22/2020 17:00   \n",
       "5        01/22/2020          Gansu  Mainland China  1/22/2020 17:00   \n",
       "\n",
       "     Confirmed  Deaths  Recovered  Active  \n",
       "SNo                                        \n",
       "1            1       0          0       1  \n",
       "2           14       0          0      14  \n",
       "3            6       0          0       6  \n",
       "4            1       0          0       1  \n",
       "5            0       0          0       0  "
      ]
     },
     "execution_count": 5,
     "metadata": {},
     "output_type": "execute_result"
    }
   ],
   "source": [
    "print(df.shape)\n",
    "print(df.index)\n",
    "df.head()"
   ]
  },
  {
   "cell_type": "code",
   "execution_count": 6,
   "metadata": {},
   "outputs": [],
   "source": [
    "#profile.ProfileReport(df)\n",
    "\n",
    "## this command uses Matplotlib using agg, which is a non-GUI backend, so cannot show following figures\n",
    "# choose which to use before starting the analysis"
   ]
  },
  {
   "cell_type": "markdown",
   "metadata": {},
   "source": [
    "### Null values and duplicates"
   ]
  },
  {
   "cell_type": "code",
   "execution_count": 7,
   "metadata": {
    "scrolled": true
   },
   "outputs": [
    {
     "data": {
      "text/plain": [
       "ObservationDate       0\n",
       "Province/State     3433\n",
       "Country/Region        0\n",
       "Last Update           0\n",
       "Confirmed             0\n",
       "Deaths                0\n",
       "Recovered             0\n",
       "Active                0\n",
       "dtype: int64"
      ]
     },
     "execution_count": 7,
     "metadata": {},
     "output_type": "execute_result"
    }
   ],
   "source": [
    "df.isna().sum()"
   ]
  },
  {
   "cell_type": "code",
   "execution_count": 8,
   "metadata": {
    "scrolled": true
   },
   "outputs": [
    {
     "data": {
      "text/html": [
       "<div>\n",
       "<style scoped>\n",
       "    .dataframe tbody tr th:only-of-type {\n",
       "        vertical-align: middle;\n",
       "    }\n",
       "\n",
       "    .dataframe tbody tr th {\n",
       "        vertical-align: top;\n",
       "    }\n",
       "\n",
       "    .dataframe thead th {\n",
       "        text-align: right;\n",
       "    }\n",
       "</style>\n",
       "<table border=\"1\" class=\"dataframe\">\n",
       "  <thead>\n",
       "    <tr style=\"text-align: right;\">\n",
       "      <th></th>\n",
       "      <th>ObservationDate</th>\n",
       "      <th>Province/State</th>\n",
       "      <th>Country/Region</th>\n",
       "      <th>Last Update</th>\n",
       "      <th>Confirmed</th>\n",
       "      <th>Deaths</th>\n",
       "      <th>Recovered</th>\n",
       "      <th>Active</th>\n",
       "    </tr>\n",
       "    <tr>\n",
       "      <th>SNo</th>\n",
       "      <th></th>\n",
       "      <th></th>\n",
       "      <th></th>\n",
       "      <th></th>\n",
       "      <th></th>\n",
       "      <th></th>\n",
       "      <th></th>\n",
       "      <th></th>\n",
       "    </tr>\n",
       "  </thead>\n",
       "  <tbody>\n",
       "  </tbody>\n",
       "</table>\n",
       "</div>"
      ],
      "text/plain": [
       "Empty DataFrame\n",
       "Columns: [ObservationDate, Province/State, Country/Region, Last Update, Confirmed, Deaths, Recovered, Active]\n",
       "Index: []"
      ]
     },
     "execution_count": 8,
     "metadata": {},
     "output_type": "execute_result"
    }
   ],
   "source": [
    "df[df.duplicated()]"
   ]
  },
  {
   "cell_type": "markdown",
   "metadata": {},
   "source": [
    "- It seems that no duplicates are present. There are null values just in the province/state column, which means that not all the countries present differences in the territory\n",
    "\n",
    "- drop Last Update (the last moment in which we had the updates)\n",
    "\n",
    "- aggregate province and country"
   ]
  },
  {
   "cell_type": "code",
   "execution_count": 9,
   "metadata": {},
   "outputs": [],
   "source": [
    "df['Province/State'].fillna('',inplace=True)\n",
    "df.drop(['Last Update'],1,inplace=True)\n",
    "#df.ObservationDate=pd.to_datetime(df.ObservationDate)"
   ]
  },
  {
   "cell_type": "code",
   "execution_count": 10,
   "metadata": {
    "scrolled": true
   },
   "outputs": [
    {
     "name": "stdout",
     "output_type": "stream",
     "text": [
      "<class 'pandas.core.frame.DataFrame'>\n",
      "Int64Index: 7926 entries, 1 to 7926\n",
      "Data columns (total 7 columns):\n",
      "ObservationDate    7926 non-null object\n",
      "Province/State     7926 non-null object\n",
      "Country/Region     7926 non-null object\n",
      "Confirmed          7926 non-null int32\n",
      "Deaths             7926 non-null int32\n",
      "Recovered          7926 non-null int32\n",
      "Active             7926 non-null int32\n",
      "dtypes: int32(4), object(3)\n",
      "memory usage: 371.5+ KB\n"
     ]
    }
   ],
   "source": [
    "df.info()"
   ]
  },
  {
   "cell_type": "markdown",
   "metadata": {},
   "source": [
    "## Working on Pop"
   ]
  },
  {
   "cell_type": "markdown",
   "metadata": {},
   "source": [
    "https://www.kaggle.com/tanuprabhu/population-by-country-2020\n",
    "\n",
    "this dataset contains data about world population. it is quite important to understand also how the population is structured in the country to better understand the spreadout of coronavirus"
   ]
  },
  {
   "cell_type": "code",
   "execution_count": 11,
   "metadata": {},
   "outputs": [
    {
     "name": "stdout",
     "output_type": "stream",
     "text": [
      "(235, 11)\n"
     ]
    },
    {
     "data": {
      "text/html": [
       "<div>\n",
       "<style scoped>\n",
       "    .dataframe tbody tr th:only-of-type {\n",
       "        vertical-align: middle;\n",
       "    }\n",
       "\n",
       "    .dataframe tbody tr th {\n",
       "        vertical-align: top;\n",
       "    }\n",
       "\n",
       "    .dataframe thead th {\n",
       "        text-align: right;\n",
       "    }\n",
       "</style>\n",
       "<table border=\"1\" class=\"dataframe\">\n",
       "  <thead>\n",
       "    <tr style=\"text-align: right;\">\n",
       "      <th></th>\n",
       "      <th>Country (or dependency)</th>\n",
       "      <th>Population (2020)</th>\n",
       "      <th>Yearly Change</th>\n",
       "      <th>Net Change</th>\n",
       "      <th>Density (P/Km²)</th>\n",
       "      <th>Land Area (Km²)</th>\n",
       "      <th>Migrants (net)</th>\n",
       "      <th>Fert. Rate</th>\n",
       "      <th>Med. Age</th>\n",
       "      <th>Urban Pop %</th>\n",
       "      <th>World Share</th>\n",
       "    </tr>\n",
       "  </thead>\n",
       "  <tbody>\n",
       "    <tr>\n",
       "      <th>0</th>\n",
       "      <td>China</td>\n",
       "      <td>1439323776</td>\n",
       "      <td>0.39%</td>\n",
       "      <td>5540090</td>\n",
       "      <td>153</td>\n",
       "      <td>9388211</td>\n",
       "      <td>-348399.0</td>\n",
       "      <td>1.7</td>\n",
       "      <td>38</td>\n",
       "      <td>61%</td>\n",
       "      <td>18.47%</td>\n",
       "    </tr>\n",
       "    <tr>\n",
       "      <th>1</th>\n",
       "      <td>India</td>\n",
       "      <td>1380004385</td>\n",
       "      <td>0.99%</td>\n",
       "      <td>13586631</td>\n",
       "      <td>464</td>\n",
       "      <td>2973190</td>\n",
       "      <td>-532687.0</td>\n",
       "      <td>2.2</td>\n",
       "      <td>28</td>\n",
       "      <td>35%</td>\n",
       "      <td>17.70%</td>\n",
       "    </tr>\n",
       "    <tr>\n",
       "      <th>2</th>\n",
       "      <td>United States</td>\n",
       "      <td>331002651</td>\n",
       "      <td>0.59%</td>\n",
       "      <td>1937734</td>\n",
       "      <td>36</td>\n",
       "      <td>9147420</td>\n",
       "      <td>954806.0</td>\n",
       "      <td>1.8</td>\n",
       "      <td>38</td>\n",
       "      <td>83%</td>\n",
       "      <td>4.25%</td>\n",
       "    </tr>\n",
       "    <tr>\n",
       "      <th>3</th>\n",
       "      <td>Indonesia</td>\n",
       "      <td>273523615</td>\n",
       "      <td>1.07%</td>\n",
       "      <td>2898047</td>\n",
       "      <td>151</td>\n",
       "      <td>1811570</td>\n",
       "      <td>-98955.0</td>\n",
       "      <td>2.3</td>\n",
       "      <td>30</td>\n",
       "      <td>56%</td>\n",
       "      <td>3.51%</td>\n",
       "    </tr>\n",
       "    <tr>\n",
       "      <th>4</th>\n",
       "      <td>Pakistan</td>\n",
       "      <td>220892340</td>\n",
       "      <td>2.00%</td>\n",
       "      <td>4327022</td>\n",
       "      <td>287</td>\n",
       "      <td>770880</td>\n",
       "      <td>-233379.0</td>\n",
       "      <td>3.6</td>\n",
       "      <td>23</td>\n",
       "      <td>35%</td>\n",
       "      <td>2.83%</td>\n",
       "    </tr>\n",
       "  </tbody>\n",
       "</table>\n",
       "</div>"
      ],
      "text/plain": [
       "  Country (or dependency)  Population (2020) Yearly Change  Net Change  \\\n",
       "0                   China         1439323776         0.39%     5540090   \n",
       "1                   India         1380004385         0.99%    13586631   \n",
       "2           United States          331002651         0.59%     1937734   \n",
       "3               Indonesia          273523615         1.07%     2898047   \n",
       "4                Pakistan          220892340         2.00%     4327022   \n",
       "\n",
       "   Density (P/Km²)  Land Area (Km²)  Migrants (net) Fert. Rate Med. Age  \\\n",
       "0              153          9388211       -348399.0        1.7       38   \n",
       "1              464          2973190       -532687.0        2.2       28   \n",
       "2               36          9147420        954806.0        1.8       38   \n",
       "3              151          1811570        -98955.0        2.3       30   \n",
       "4              287           770880       -233379.0        3.6       23   \n",
       "\n",
       "  Urban Pop % World Share  \n",
       "0         61%      18.47%  \n",
       "1         35%      17.70%  \n",
       "2         83%       4.25%  \n",
       "3         56%       3.51%  \n",
       "4         35%       2.83%  "
      ]
     },
     "execution_count": 11,
     "metadata": {},
     "output_type": "execute_result"
    }
   ],
   "source": [
    "print(ppl.shape)\n",
    "ppl.head()"
   ]
  },
  {
   "cell_type": "code",
   "execution_count": 12,
   "metadata": {},
   "outputs": [],
   "source": [
    "ppl=ppl[['Country (or dependency)','Population (2020)','Density (P/Km²)','Med. Age','Urban Pop %']]\n",
    "ppl.columns=['country','pop20','ppl_km','avg_age','urbanization']"
   ]
  },
  {
   "cell_type": "code",
   "execution_count": 13,
   "metadata": {
    "scrolled": true
   },
   "outputs": [
    {
     "data": {
      "text/html": [
       "<div>\n",
       "<style scoped>\n",
       "    .dataframe tbody tr th:only-of-type {\n",
       "        vertical-align: middle;\n",
       "    }\n",
       "\n",
       "    .dataframe tbody tr th {\n",
       "        vertical-align: top;\n",
       "    }\n",
       "\n",
       "    .dataframe thead th {\n",
       "        text-align: right;\n",
       "    }\n",
       "</style>\n",
       "<table border=\"1\" class=\"dataframe\">\n",
       "  <thead>\n",
       "    <tr style=\"text-align: right;\">\n",
       "      <th></th>\n",
       "      <th>country</th>\n",
       "      <th>pop20</th>\n",
       "      <th>ppl_km</th>\n",
       "      <th>avg_age</th>\n",
       "      <th>urbanization</th>\n",
       "    </tr>\n",
       "  </thead>\n",
       "  <tbody>\n",
       "    <tr>\n",
       "      <th>0</th>\n",
       "      <td>China</td>\n",
       "      <td>1439323776</td>\n",
       "      <td>153</td>\n",
       "      <td>38</td>\n",
       "      <td>61%</td>\n",
       "    </tr>\n",
       "    <tr>\n",
       "      <th>1</th>\n",
       "      <td>India</td>\n",
       "      <td>1380004385</td>\n",
       "      <td>464</td>\n",
       "      <td>28</td>\n",
       "      <td>35%</td>\n",
       "    </tr>\n",
       "    <tr>\n",
       "      <th>2</th>\n",
       "      <td>United States</td>\n",
       "      <td>331002651</td>\n",
       "      <td>36</td>\n",
       "      <td>38</td>\n",
       "      <td>83%</td>\n",
       "    </tr>\n",
       "    <tr>\n",
       "      <th>3</th>\n",
       "      <td>Indonesia</td>\n",
       "      <td>273523615</td>\n",
       "      <td>151</td>\n",
       "      <td>30</td>\n",
       "      <td>56%</td>\n",
       "    </tr>\n",
       "    <tr>\n",
       "      <th>4</th>\n",
       "      <td>Pakistan</td>\n",
       "      <td>220892340</td>\n",
       "      <td>287</td>\n",
       "      <td>23</td>\n",
       "      <td>35%</td>\n",
       "    </tr>\n",
       "  </tbody>\n",
       "</table>\n",
       "</div>"
      ],
      "text/plain": [
       "         country       pop20  ppl_km avg_age urbanization\n",
       "0          China  1439323776     153      38          61%\n",
       "1          India  1380004385     464      28          35%\n",
       "2  United States   331002651      36      38          83%\n",
       "3      Indonesia   273523615     151      30          56%\n",
       "4       Pakistan   220892340     287      23          35%"
      ]
     },
     "execution_count": 13,
     "metadata": {},
     "output_type": "execute_result"
    }
   ],
   "source": [
    "ppl.head()"
   ]
  },
  {
   "cell_type": "code",
   "execution_count": 14,
   "metadata": {},
   "outputs": [],
   "source": [
    "ppl['country'].replace(['United States','United Kingdom','Czech Republic (Czechia)','State of Palestine'],\n",
    "                       ['US','UK','Czech Republic','Palestine'],inplace=True)"
   ]
  },
  {
   "cell_type": "code",
   "execution_count": 15,
   "metadata": {},
   "outputs": [],
   "source": [
    "ppl.urbanization = ppl.urbanization.str.rstrip('%')\n"
   ]
  },
  {
   "cell_type": "markdown",
   "metadata": {},
   "source": [
    "# EDA -- Exploratory Data Analysis"
   ]
  },
  {
   "cell_type": "markdown",
   "metadata": {},
   "source": [
    "# Covid Data"
   ]
  },
  {
   "cell_type": "markdown",
   "metadata": {},
   "source": [
    "## Country"
   ]
  },
  {
   "cell_type": "code",
   "execution_count": 16,
   "metadata": {},
   "outputs": [],
   "source": [
    "df=df.replace('None', '')\n",
    "df.replace(to_replace='Mainland China',value='China', inplace=True)\n",
    "df.replace(\"('St. Martin',)\", 'St. Martin', inplace=True)\n",
    "df.replace(\" Azerbaijan\", 'Azerbaijan', inplace=True)\n",
    "df.replace(\"occupied Palestinian territory\", 'Palestine', inplace=True)\n",
    "df.replace(['The Gambia','Gambia, The','North Ireland','Republic of Ireland','Macau','Vatican City',\n",
    "            'Saint Vincent and the Grenadines','Sao Tome and Principe','Curacao','East Timor','Ivory Coast','The Bahamas',\n",
    "           'Bahamas, The','Cape Verde','Faroe Islands','Reunion','St. Martin'],\n",
    "           ['Gambia','Gambia','Ireland','Ireland','Macao','Holy See','St. Vincent & Grenadines','Sao Tome & Principe',\n",
    "           'Curaçao','Timor-Leste',\"Côte d'Ivoire\",'Bahamas','Bahamas','Cabo Verde','Faeroe Islands','Réunion',\n",
    "           'Sint Maarten'],inplace=True)\n",
    "\n",
    "## congo Kinshasa == Democratic republic of Congo\n",
    "df.replace([\"Congo (Kinshasa)\",'Republic of the Congo'], ['DR Congo','DR Congo'], inplace=True)\n",
    "\n",
    "## congo brazzaville (commonly known as Congo) is congo-brazzaville, different from previous congo Kinshasa\n",
    "df.replace(\"Congo (Brazzaville)\", 'Congo', inplace=True)"
   ]
  },
  {
   "cell_type": "code",
   "execution_count": 17,
   "metadata": {},
   "outputs": [
    {
     "data": {
      "text/plain": [
       "(7926, 7)"
      ]
     },
     "execution_count": 17,
     "metadata": {},
     "output_type": "execute_result"
    }
   ],
   "source": [
    "df.shape"
   ]
  },
  {
   "cell_type": "markdown",
   "metadata": {},
   "source": [
    "## Province"
   ]
  },
  {
   "cell_type": "code",
   "execution_count": 18,
   "metadata": {},
   "outputs": [],
   "source": [
    "new= df[\"Province/State\"].str.split(\",\", n = 1, expand = True) \n",
    "new.columns=['country_city','prov']\n",
    "\n",
    "new.replace([' IL',' MA',' CA',' WA',' AZ',' ON',' WI',' TX',' NE',' NE (From Diamond Princess)',\n",
    "             ' CA (From Diamond Princess)',' TX (From Diamond Princess)',' QC',' OR',' RI',' NH',' FL',' NY',\n",
    "            ' GA',' NC',' NJ',' NV',' TN',' MD',' CO',' Alberta',' PA',' KY',' IN',' MN',' CT',' SC',' UT',\n",
    "            ' HI',' OR ',' OK',' VA',' D.C.',' KS',' MO',' VT',' IA',' LA', ' U.S.','US'],\n",
    "            ['Illinois','Massachusetts','California','Washington','Arizona','Ontario','Wisconsin',\n",
    "            'Texas','Nebraska','Nebraska','California','Texas','Quebec','Oregon','Rhode Island',\n",
    "            'New Hampshire','Florida','New York','Georgia','North Carolina','New Jersey','Nevada',\n",
    "            'Tennessee','Maryland','Colorado','Alberta','Pennsylvania','Kentucky','Indiana','Minnesota',\n",
    "            'Connecticut','South Carolina','Utah','Hawaii','Oregon','Oklahoma','Virginia','District of Columbia',\n",
    "            'Kansas','Missouri','Vermont','Iowa', 'Lousiana','United States','United States'], inplace=True)\n",
    "\n",
    "  #print(new.iloc[:,1].unique())\n",
    "  #print(new.prov.isna().sum())\n",
    "\n",
    "#after splitting: US has province after comma, while china and the rest of the countries on before. put all province in the\n",
    "#second col\n",
    "new.prov.fillna(value=new.country_city,inplace=True)\n",
    "\n",
    "df['Province']=new.country_city"
   ]
  },
  {
   "cell_type": "markdown",
   "metadata": {},
   "source": [
    "### Aggregate province and state"
   ]
  },
  {
   "cell_type": "code",
   "execution_count": 19,
   "metadata": {},
   "outputs": [],
   "source": [
    "df['country_province']=df['Country/Region']+'_'+df['Province']"
   ]
  },
  {
   "cell_type": "code",
   "execution_count": 20,
   "metadata": {},
   "outputs": [],
   "source": [
    "df=df[['ObservationDate','Country/Region','Province/State','country_province','Confirmed','Deaths','Recovered','Active']]\n",
    "df.columns=['date','country','prov_state','country_prov','confirmed','deaths','recovered','active']\n",
    "df.replace('Others_Cruise Ship','Others_Diamond Princess cruise ship',inplace=True)"
   ]
  },
  {
   "cell_type": "code",
   "execution_count": 21,
   "metadata": {
    "scrolled": false
   },
   "outputs": [
    {
     "name": "stdout",
     "output_type": "stream",
     "text": [
      "(7926, 8)\n"
     ]
    },
    {
     "data": {
      "text/html": [
       "<div>\n",
       "<style scoped>\n",
       "    .dataframe tbody tr th:only-of-type {\n",
       "        vertical-align: middle;\n",
       "    }\n",
       "\n",
       "    .dataframe tbody tr th {\n",
       "        vertical-align: top;\n",
       "    }\n",
       "\n",
       "    .dataframe thead th {\n",
       "        text-align: right;\n",
       "    }\n",
       "</style>\n",
       "<table border=\"1\" class=\"dataframe\">\n",
       "  <thead>\n",
       "    <tr style=\"text-align: right;\">\n",
       "      <th></th>\n",
       "      <th>date</th>\n",
       "      <th>country</th>\n",
       "      <th>prov_state</th>\n",
       "      <th>country_prov</th>\n",
       "      <th>confirmed</th>\n",
       "      <th>deaths</th>\n",
       "      <th>recovered</th>\n",
       "      <th>active</th>\n",
       "    </tr>\n",
       "    <tr>\n",
       "      <th>SNo</th>\n",
       "      <th></th>\n",
       "      <th></th>\n",
       "      <th></th>\n",
       "      <th></th>\n",
       "      <th></th>\n",
       "      <th></th>\n",
       "      <th></th>\n",
       "      <th></th>\n",
       "    </tr>\n",
       "  </thead>\n",
       "  <tbody>\n",
       "    <tr>\n",
       "      <th>1</th>\n",
       "      <td>01/22/2020</td>\n",
       "      <td>China</td>\n",
       "      <td>Anhui</td>\n",
       "      <td>China_Anhui</td>\n",
       "      <td>1</td>\n",
       "      <td>0</td>\n",
       "      <td>0</td>\n",
       "      <td>1</td>\n",
       "    </tr>\n",
       "    <tr>\n",
       "      <th>2</th>\n",
       "      <td>01/22/2020</td>\n",
       "      <td>China</td>\n",
       "      <td>Beijing</td>\n",
       "      <td>China_Beijing</td>\n",
       "      <td>14</td>\n",
       "      <td>0</td>\n",
       "      <td>0</td>\n",
       "      <td>14</td>\n",
       "    </tr>\n",
       "    <tr>\n",
       "      <th>3</th>\n",
       "      <td>01/22/2020</td>\n",
       "      <td>China</td>\n",
       "      <td>Chongqing</td>\n",
       "      <td>China_Chongqing</td>\n",
       "      <td>6</td>\n",
       "      <td>0</td>\n",
       "      <td>0</td>\n",
       "      <td>6</td>\n",
       "    </tr>\n",
       "    <tr>\n",
       "      <th>4</th>\n",
       "      <td>01/22/2020</td>\n",
       "      <td>China</td>\n",
       "      <td>Fujian</td>\n",
       "      <td>China_Fujian</td>\n",
       "      <td>1</td>\n",
       "      <td>0</td>\n",
       "      <td>0</td>\n",
       "      <td>1</td>\n",
       "    </tr>\n",
       "    <tr>\n",
       "      <th>5</th>\n",
       "      <td>01/22/2020</td>\n",
       "      <td>China</td>\n",
       "      <td>Gansu</td>\n",
       "      <td>China_Gansu</td>\n",
       "      <td>0</td>\n",
       "      <td>0</td>\n",
       "      <td>0</td>\n",
       "      <td>0</td>\n",
       "    </tr>\n",
       "  </tbody>\n",
       "</table>\n",
       "</div>"
      ],
      "text/plain": [
       "           date country prov_state     country_prov  confirmed  deaths  \\\n",
       "SNo                                                                      \n",
       "1    01/22/2020   China      Anhui      China_Anhui          1       0   \n",
       "2    01/22/2020   China    Beijing    China_Beijing         14       0   \n",
       "3    01/22/2020   China  Chongqing  China_Chongqing          6       0   \n",
       "4    01/22/2020   China     Fujian     China_Fujian          1       0   \n",
       "5    01/22/2020   China      Gansu      China_Gansu          0       0   \n",
       "\n",
       "     recovered  active  \n",
       "SNo                     \n",
       "1            0       1  \n",
       "2            0      14  \n",
       "3            0       6  \n",
       "4            0       1  \n",
       "5            0       0  "
      ]
     },
     "execution_count": 21,
     "metadata": {},
     "output_type": "execute_result"
    }
   ],
   "source": [
    "print(df.shape)\n",
    "df.head()"
   ]
  },
  {
   "cell_type": "code",
   "execution_count": 22,
   "metadata": {},
   "outputs": [
    {
     "data": {
      "text/plain": [
       "array(['China_Anhui', 'China_Beijing', 'China_Chongqing', 'China_Fujian',\n",
       "       'China_Gansu', 'China_Guangdong', 'China_Guangxi', 'China_Guizhou',\n",
       "       'China_Hainan', 'China_Hebei', 'China_Heilongjiang', 'China_Henan',\n",
       "       'Hong Kong_Hong Kong', 'China_Hubei', 'China_Hunan',\n",
       "       'China_Inner Mongolia', 'China_Jiangsu', 'China_Jiangxi',\n",
       "       'China_Jilin', 'China_Liaoning', 'Macao_Macao', 'China_Ningxia',\n",
       "       'China_Qinghai', 'China_Shaanxi', 'China_Shandong',\n",
       "       'China_Shanghai', 'China_Shanxi', 'China_Sichuan', 'Taiwan_Taiwan',\n",
       "       'China_Tianjin', 'China_Tibet', 'US_Washington', 'China_Xinjiang',\n",
       "       'China_Yunnan', 'China_Zhejiang', 'Japan_', 'Thailand_',\n",
       "       'South Korea_', 'Singapore_', 'Philippines_', 'Malaysia_',\n",
       "       'Vietnam_', 'Australia_', 'Mexico_', 'Brazil_', 'Colombia_',\n",
       "       'US_Chicago', 'France_', 'US_Illinois', 'Nepal_', 'US_California',\n",
       "       'US_Arizona', 'Canada_Ontario', 'Cambodia_', 'Sri Lanka_',\n",
       "       \"Côte d'Ivoire_\", 'Australia_New South Wales',\n",
       "       'Australia_Victoria', 'Canada_British Columbia', 'Germany_Bavaria',\n",
       "       'Finland_', 'United Arab Emirates_', 'Australia_Queensland',\n",
       "       'India_', 'Italy_', 'UK_', 'Russia_', 'Sweden_', 'Germany_',\n",
       "       'Australia_South Australia', 'Spain_', 'US_Boston',\n",
       "       'US_Los Angeles', 'US_Orange', 'US_Santa Clara', 'US_Seattle',\n",
       "       'US_Tempe', 'US_San Benito', 'Canada_Toronto', 'Belgium_',\n",
       "       'Canada_London', 'US_Madison',\n",
       "       'Others_Diamond Princess cruise ship', 'US_San Diego County',\n",
       "       'US_San Antonio', 'Egypt_', 'Iran_', 'US_Ashland', 'US_Travis',\n",
       "       'Australia_From Diamond Princess', 'US_Lackland',\n",
       "       'Israel_From Diamond Princess', 'Lebanon_', 'US_Humboldt County',\n",
       "       'US_Sacramento County', 'US_Omaha', 'Iraq_',\n",
       "       'US_Unassigned Location (From Diamond Princess)', 'Oman_',\n",
       "       'Afghanistan_', 'Bahrain_', 'Kuwait_', 'Austria_', 'Algeria_',\n",
       "       'Croatia_', 'Switzerland_', 'Israel_', 'Pakistan_', 'Georgia_',\n",
       "       'Greece_', 'North Macedonia_', 'Norway_', 'Romania_', 'Denmark_',\n",
       "       'Estonia_', 'Netherlands_', 'San Marino_', 'Azerbaijan_',\n",
       "       'Belarus_', 'Canada_ Montreal', 'Iceland_', 'Lithuania_',\n",
       "       'New Zealand_', 'Nigeria_', 'Ireland_',\n",
       "       'Australia_Western Australia', 'Luxembourg_', 'Monaco_', 'Qatar_',\n",
       "       'US_Portland', 'US_Snohomish County', 'Ecuador_',\n",
       "       'Czech Republic_', 'Armenia_', 'Dominican Republic_',\n",
       "       'US_Providence', 'US_King County', 'US_Cook County', 'Indonesia_',\n",
       "       'Portugal_', 'Andorra_', 'Australia_Tasmania', 'Latvia_',\n",
       "       'Morocco_', 'Saudi Arabia_', 'Senegal_', 'US_Grafton County',\n",
       "       'US_Hillsborough', 'US_New York City', 'US_Placer County',\n",
       "       'US_San Mateo', 'US_Sarasota', 'US_Sonoma County', 'US_Umatilla',\n",
       "       'US_Fulton County', 'US_Washington County', 'Argentina_', 'Chile_',\n",
       "       'Jordan_', 'US_ Norfolk County', 'US_Berkeley',\n",
       "       'US_Maricopa County', 'US_Wake County', 'US_Westchester County',\n",
       "       'Ukraine_', 'Saint Barthelemy_', 'US_Orange County', 'Hungary_',\n",
       "       'Australia_Northern Territory', 'Faeroe Islands_', 'Gibraltar_',\n",
       "       'Liechtenstein_', 'Poland_', 'Tunisia_', 'US_Contra Costa County',\n",
       "       'Palestine_', 'Bosnia and Herzegovina_', 'Slovenia_',\n",
       "       'US_Bergen County', 'US_Harris County', 'US_San Francisco County',\n",
       "       'South Africa_', 'US_Clark County', 'US_Fort Bend County',\n",
       "       'US_Grant County', 'US_Queens County', 'US_Santa Rosa County',\n",
       "       'US_Williamson County', 'US_New York County',\n",
       "       'US_Unassigned Location', 'US_Montgomery County',\n",
       "       'US_Suffolk County', 'US_Denver County', 'US_Summit County',\n",
       "       'Bhutan_', 'Cameroon_', 'Canada_Calgary', 'Costa Rica_', 'Peru_',\n",
       "       'Serbia_', 'Slovakia_', 'Togo_', 'US_Chatham County',\n",
       "       'US_Delaware County', 'US_Douglas County', 'US_Fayette County',\n",
       "       'US_Floyd County', 'US_Marion County', 'US_Middlesex County',\n",
       "       'US_Nassau County', 'US_Norwell County', 'US_Ramsey County',\n",
       "       'US_Washoe County', 'US_Wayne County', 'US_Yolo County',\n",
       "       'Holy See_', 'US_Santa Clara County',\n",
       "       'US_Grand Princess Cruise Ship', 'French Guiana_', 'Malta_',\n",
       "       'US_Providence County', 'Martinique_', 'US_Alameda County',\n",
       "       'US_Broward County', 'US_Fairfield County', 'US_Lee County',\n",
       "       'US_Pinal County', 'US_Rockland County', 'US_Saratoga County',\n",
       "       'Canada_Edmonton', 'US_Charleston County', 'US_Cobb County',\n",
       "       'US_Davis County', 'US_El Paso County', 'US_Honolulu County',\n",
       "       'US_Jackson County', 'US_Jefferson County', 'US_Kershaw County',\n",
       "       'US_Klamath County', 'US_Madera County', 'US_Pierce County',\n",
       "       'US_Plymouth County', 'US_Santa Cruz County', 'US_Tulsa County',\n",
       "       'US_Norfolk County', 'Bulgaria_', 'Maldives_', 'Bangladesh_',\n",
       "       'US_Fairfax County', 'US_Rockingham County', 'Moldova_',\n",
       "       'Paraguay_', 'US_Berkshire County', 'US_Davidson County',\n",
       "       'US_Fresno County', 'US_Harford County', 'US_Hendricks County',\n",
       "       'US_Hudson County', 'US_Johnson County', 'US_Kittitas County',\n",
       "       'US_Manatee County', 'US_Okaloosa County', 'US_Polk County',\n",
       "       'US_Riverside County', 'US_Shelby County', 'US_Spokane County',\n",
       "       'US_St. Louis County', 'US_Ulster County', 'US_Unknown Location',\n",
       "       'US_Volusia County', 'Canada_Alberta', 'Canada_Quebec', 'Albania_',\n",
       "       'Cyprus_', 'Sint Maarten_', 'US_Harrison County', 'Brunei_',\n",
       "       'US_Bennington County', 'US_Carver County', 'US_Charlotte County',\n",
       "       'US_Cherokee County', 'US_Collin County', 'US_Jefferson Parish',\n",
       "       'US_Shasta County', 'US_Spartanburg County', 'US_New York',\n",
       "       'US_Massachusetts', 'US_Diamond Princess cruise ship',\n",
       "       'US_Grand Princess', 'US_Georgia', 'US_Colorado', 'US_Florida',\n",
       "       'US_New Jersey', 'US_Oregon', 'US_Texas', 'US_Pennsylvania',\n",
       "       'US_Iowa', 'US_Maryland', 'US_North Carolina', 'US_South Carolina',\n",
       "       'US_Tennessee', 'US_Virginia', 'US_Indiana', 'US_Kentucky',\n",
       "       'US_District of Columbia', 'US_Nevada', 'US_New Hampshire',\n",
       "       'US_Minnesota', 'US_Nebraska', 'US_Ohio', 'US_Rhode Island',\n",
       "       'US_Wisconsin', 'US_Connecticut', 'US_Hawaii', 'US_Oklahoma',\n",
       "       'US_Utah', 'Burkina Faso_', 'Channel Islands_', 'Mongolia_',\n",
       "       'Panama_', 'US_Kansas', 'US_Louisiana', 'US_Missouri',\n",
       "       'US_Vermont', 'Australia_Diamond Princess cruise ship',\n",
       "       'US_Alaska', 'US_Arkansas', 'US_Delaware', 'US_Idaho', 'US_Maine',\n",
       "       'US_Michigan', 'US_Mississippi', 'US_Montana', 'US_New Mexico',\n",
       "       'US_North Dakota', 'US_South Dakota', 'US_West Virginia',\n",
       "       'US_Wyoming', 'France_France', 'UK_UK', 'Denmark_Denmark',\n",
       "       'Taiwan_', 'Bolivia_', 'Denmark_Faeroe Islands',\n",
       "       'France_St Martin', 'Honduras_', 'UK_Channel Islands',\n",
       "       'Canada_New Brunswick', 'DR Congo_', 'France_Saint Barthelemy',\n",
       "       'Jamaica_', 'Réunion_', 'Turkey_', 'UK_Gibraltar', 'Cuba_',\n",
       "       'Guyana_', 'Australia_Australian Capital Territory',\n",
       "       'UK_United Kingdom', 'Kazakhstan_', 'France_French Polynesia',\n",
       "       'Cayman Islands_', 'Guadeloupe_', 'Canada_Manitoba',\n",
       "       'Canada_Saskatchewan', 'Ethiopia_', 'Sudan_', 'Guinea_',\n",
       "       'Antigua and Barbuda_', 'Aruba_', 'Canada_Grand Princess',\n",
       "       'Kenya_', 'US_Alabama', 'France_Fench Guiana', 'Uruguay_',\n",
       "       'Ghana_', 'US_Puerto Rico', 'Jersey_', 'Namibia_', 'Seychelles_',\n",
       "       'Trinidad and Tobago_', 'Venezuela_', 'Curaçao_', 'Eswatini_',\n",
       "       'Gabon_', 'Guatemala_', 'Guernsey_', 'Mauritania_', 'Rwanda_',\n",
       "       'Saint Lucia_', 'St. Vincent & Grenadines_', 'Suriname_',\n",
       "       'US_Virgin Islands', 'France_French Guiana', 'US_Guam', 'Kosovo_',\n",
       "       'Canada_Newfoundland and Labrador', 'Canada_Prince Edward Island',\n",
       "       'Central African Republic_', 'Congo_', 'Equatorial Guinea_',\n",
       "       'France_Mayotte', 'Uzbekistan_', 'Netherlands_Netherlands',\n",
       "       'Canada_Nova Scotia', 'France_Guadeloupe', 'Guam_', 'Puerto Rico_',\n",
       "       'Benin_', 'Greenland_', 'Liberia_', 'Mayotte_',\n",
       "       'Netherlands_Curaçao', 'Somalia_', 'Tanzania_', 'Bahamas_',\n",
       "       'UK_Cayman Islands', 'France_Réunion', 'Barbados_', 'Montenegro_',\n",
       "       'Gambia_', 'Kyrgyzstan_', 'Mauritius_', 'Netherlands_Aruba',\n",
       "       'US_United States Virgin Islands', 'Zambia_', 'Djibouti_',\n",
       "       'US_United States', 'UK_Montserrat', 'Denmark_Greenland',\n",
       "       'France_New Caledonia', 'UK_Bermuda', 'Chad_', 'El Salvador_',\n",
       "       'Fiji_', 'Nicaragua_', 'Madagascar_', 'Haiti_', 'Angola_',\n",
       "       'Cabo Verde_', 'Netherlands_Sint Maarten', 'Niger_',\n",
       "       'Papua New Guinea_', 'UK_Isle of Man', 'Zimbabwe_',\n",
       "       'Canada_Northwest Territories', 'Timor-Leste_', 'Eritrea_',\n",
       "       'Uganda_', 'Dominica_', 'Grenada_', 'Mozambique_', 'Syria_'],\n",
       "      dtype=object)"
      ]
     },
     "execution_count": 22,
     "metadata": {},
     "output_type": "execute_result"
    }
   ],
   "source": [
    "df.country_prov.unique()"
   ]
  },
  {
   "cell_type": "code",
   "execution_count": 23,
   "metadata": {},
   "outputs": [
    {
     "name": "stdout",
     "output_type": "stream",
     "text": [
      "(7882, 8)\n"
     ]
    },
    {
     "data": {
      "text/html": [
       "<div>\n",
       "<style scoped>\n",
       "    .dataframe tbody tr th:only-of-type {\n",
       "        vertical-align: middle;\n",
       "    }\n",
       "\n",
       "    .dataframe tbody tr th {\n",
       "        vertical-align: top;\n",
       "    }\n",
       "\n",
       "    .dataframe thead th {\n",
       "        text-align: right;\n",
       "    }\n",
       "</style>\n",
       "<table border=\"1\" class=\"dataframe\">\n",
       "  <thead>\n",
       "    <tr style=\"text-align: right;\">\n",
       "      <th></th>\n",
       "      <th>date</th>\n",
       "      <th>country_prov</th>\n",
       "      <th>country</th>\n",
       "      <th>prov_state</th>\n",
       "      <th>confirmed</th>\n",
       "      <th>deaths</th>\n",
       "      <th>recovered</th>\n",
       "      <th>active</th>\n",
       "    </tr>\n",
       "  </thead>\n",
       "  <tbody>\n",
       "    <tr>\n",
       "      <th>0</th>\n",
       "      <td>01/22/2020</td>\n",
       "      <td>China_Anhui</td>\n",
       "      <td>China</td>\n",
       "      <td>Anhui</td>\n",
       "      <td>1</td>\n",
       "      <td>0</td>\n",
       "      <td>0</td>\n",
       "      <td>1</td>\n",
       "    </tr>\n",
       "    <tr>\n",
       "      <th>1</th>\n",
       "      <td>01/22/2020</td>\n",
       "      <td>China_Beijing</td>\n",
       "      <td>China</td>\n",
       "      <td>Beijing</td>\n",
       "      <td>14</td>\n",
       "      <td>0</td>\n",
       "      <td>0</td>\n",
       "      <td>14</td>\n",
       "    </tr>\n",
       "    <tr>\n",
       "      <th>2</th>\n",
       "      <td>01/22/2020</td>\n",
       "      <td>China_Chongqing</td>\n",
       "      <td>China</td>\n",
       "      <td>Chongqing</td>\n",
       "      <td>6</td>\n",
       "      <td>0</td>\n",
       "      <td>0</td>\n",
       "      <td>6</td>\n",
       "    </tr>\n",
       "    <tr>\n",
       "      <th>3</th>\n",
       "      <td>01/22/2020</td>\n",
       "      <td>China_Fujian</td>\n",
       "      <td>China</td>\n",
       "      <td>Fujian</td>\n",
       "      <td>1</td>\n",
       "      <td>0</td>\n",
       "      <td>0</td>\n",
       "      <td>1</td>\n",
       "    </tr>\n",
       "    <tr>\n",
       "      <th>4</th>\n",
       "      <td>01/22/2020</td>\n",
       "      <td>China_Gansu</td>\n",
       "      <td>China</td>\n",
       "      <td>Gansu</td>\n",
       "      <td>0</td>\n",
       "      <td>0</td>\n",
       "      <td>0</td>\n",
       "      <td>0</td>\n",
       "    </tr>\n",
       "  </tbody>\n",
       "</table>\n",
       "</div>"
      ],
      "text/plain": [
       "         date     country_prov country prov_state  confirmed  deaths  \\\n",
       "0  01/22/2020      China_Anhui   China      Anhui          1       0   \n",
       "1  01/22/2020    China_Beijing   China    Beijing         14       0   \n",
       "2  01/22/2020  China_Chongqing   China  Chongqing          6       0   \n",
       "3  01/22/2020     China_Fujian   China     Fujian          1       0   \n",
       "4  01/22/2020      China_Gansu   China      Gansu          0       0   \n",
       "\n",
       "   recovered  active  \n",
       "0          0       1  \n",
       "1          0      14  \n",
       "2          0       6  \n",
       "3          0       1  \n",
       "4          0       0  "
      ]
     },
     "execution_count": 23,
     "metadata": {},
     "output_type": "execute_result"
    }
   ],
   "source": [
    "## Taking the maximum per each day\n",
    "df_daymax=df.groupby(['date','country_prov','country']).max()\n",
    "df_daymax.reset_index(inplace=True)\n",
    "print(df_daymax.shape)\n",
    "df_daymax.head()"
   ]
  },
  {
   "cell_type": "code",
   "execution_count": 24,
   "metadata": {
    "scrolled": true
   },
   "outputs": [
    {
     "name": "stdout",
     "output_type": "stream",
     "text": [
      "(3919, 6)\n"
     ]
    },
    {
     "data": {
      "text/html": [
       "<div>\n",
       "<style scoped>\n",
       "    .dataframe tbody tr th:only-of-type {\n",
       "        vertical-align: middle;\n",
       "    }\n",
       "\n",
       "    .dataframe tbody tr th {\n",
       "        vertical-align: top;\n",
       "    }\n",
       "\n",
       "    .dataframe thead th {\n",
       "        text-align: right;\n",
       "    }\n",
       "</style>\n",
       "<table border=\"1\" class=\"dataframe\">\n",
       "  <thead>\n",
       "    <tr style=\"text-align: right;\">\n",
       "      <th></th>\n",
       "      <th>date</th>\n",
       "      <th>country</th>\n",
       "      <th>confirmed</th>\n",
       "      <th>deaths</th>\n",
       "      <th>recovered</th>\n",
       "      <th>active</th>\n",
       "    </tr>\n",
       "  </thead>\n",
       "  <tbody>\n",
       "    <tr>\n",
       "      <th>0</th>\n",
       "      <td>01/22/2020</td>\n",
       "      <td>China</td>\n",
       "      <td>547</td>\n",
       "      <td>17</td>\n",
       "      <td>28</td>\n",
       "      <td>502</td>\n",
       "    </tr>\n",
       "    <tr>\n",
       "      <th>1</th>\n",
       "      <td>01/22/2020</td>\n",
       "      <td>Hong Kong</td>\n",
       "      <td>0</td>\n",
       "      <td>0</td>\n",
       "      <td>0</td>\n",
       "      <td>0</td>\n",
       "    </tr>\n",
       "    <tr>\n",
       "      <th>2</th>\n",
       "      <td>01/22/2020</td>\n",
       "      <td>Japan</td>\n",
       "      <td>2</td>\n",
       "      <td>0</td>\n",
       "      <td>0</td>\n",
       "      <td>2</td>\n",
       "    </tr>\n",
       "    <tr>\n",
       "      <th>3</th>\n",
       "      <td>01/22/2020</td>\n",
       "      <td>Macao</td>\n",
       "      <td>1</td>\n",
       "      <td>0</td>\n",
       "      <td>0</td>\n",
       "      <td>1</td>\n",
       "    </tr>\n",
       "    <tr>\n",
       "      <th>4</th>\n",
       "      <td>01/22/2020</td>\n",
       "      <td>South Korea</td>\n",
       "      <td>1</td>\n",
       "      <td>0</td>\n",
       "      <td>0</td>\n",
       "      <td>1</td>\n",
       "    </tr>\n",
       "  </tbody>\n",
       "</table>\n",
       "</div>"
      ],
      "text/plain": [
       "         date      country  confirmed  deaths  recovered  active\n",
       "0  01/22/2020        China        547      17         28     502\n",
       "1  01/22/2020    Hong Kong          0       0          0       0\n",
       "2  01/22/2020        Japan          2       0          0       2\n",
       "3  01/22/2020        Macao          1       0          0       1\n",
       "4  01/22/2020  South Korea          1       0          0       1"
      ]
     },
     "execution_count": 24,
     "metadata": {},
     "output_type": "execute_result"
    }
   ],
   "source": [
    "## summing for province -- getting totals for each country\n",
    "df_countrymax=df_daymax.groupby(['date','country']).sum()\n",
    "df_countrymax.reset_index(inplace=True)\n",
    "print(df_countrymax.shape)\n",
    "df_countrymax.head()"
   ]
  },
  {
   "cell_type": "markdown",
   "metadata": {},
   "source": [
    "### plot for each country"
   ]
  },
  {
   "cell_type": "code",
   "execution_count": 39,
   "metadata": {},
   "outputs": [],
   "source": [
    "from datetime import datetime\n",
    "import matplotlib.dates as mdates\n",
    "def country_plot(df,title='ABC',x_size=20,y_size=6,save_fig=False,path=''):\n",
    "    plt.figure(figsize=(x_size,y_size))\n",
    "\n",
    "    x_values = df['date']\n",
    "    y_values=df['confirmed']\n",
    "    w_values=df['deaths']\n",
    "    k_values=df['recovered']\n",
    "    z_values=df['active']\n",
    "\n",
    "    plt.plot(x_values,y_values, 'r-', label='Confirmed')\n",
    "    plt.plot(x_values,z_values, 'g-',label='Carrier')\n",
    "    plt.plot(x_values,w_values, 'b-',label='Deaths')\n",
    "    plt.plot(x_values,k_values, 'y-',label='Recovered')\n",
    "    plt.title(title)\n",
    "    plt.legend()\n",
    "    plt.xticks(rotation=45)\n",
    "    if save_fig==True:\n",
    "        plt.savefig(path+title+'-22mar20.png')\n",
    "    return(plt.show())\n"
   ]
  },
  {
   "cell_type": "code",
   "execution_count": 43,
   "metadata": {},
   "outputs": [
    {
     "data": {
      "image/png": "[encoded data removed]",
      "text/plain": [
       "<Figure size 1440x432 with 1 Axes>"
      ]
     },
     "metadata": {
      "needs_background": "light"
     },
     "output_type": "display_data"
    },
    {
     "data": {
      "image/png": "[encoded data removed]",
      "text/plain": [
       "<Figure size 1440x432 with 1 Axes>"
      ]
     },
     "metadata": {
      "needs_background": "light"
     },
     "output_type": "display_data"
    },
    {
     "data": {
      "image/png": "[encoded data removed]",
      "text/plain": [
       "<Figure size 1440x432 with 1 Axes>"
      ]
     },
     "metadata": {
      "needs_background": "light"
     },
     "output_type": "display_data"
    },
    {
     "data": {
      "image/png": "[encoded data removed]",
      "text/plain": [
       "<Figure size 1440x432 with 1 Axes>"
      ]
     },
     "metadata": {
      "needs_background": "light"
     },
     "output_type": "display_data"
    }
   ],
   "source": [
    "country_name=list(['China','Italy','US','Spain'])\n",
    "for name in country_name:\n",
    "    data=df_countrymax[df_countrymax['country']==name]\n",
    "    country_plot(data,name,x_size=20,y_size=6,save_fig=True )\n",
    "    #plt.savefig(name+'-targets plot.png')"
   ]
  },
  {
   "cell_type": "markdown",
   "metadata": {},
   "source": [
    "### plot for world "
   ]
  },
  {
   "cell_type": "code",
   "execution_count": 27,
   "metadata": {
    "scrolled": true
   },
   "outputs": [
    {
     "data": {
      "text/plain": [
       "([0,\n",
       "  1,\n",
       "  2,\n",
       "  3,\n",
       "  4,\n",
       "  5,\n",
       "  6,\n",
       "  7,\n",
       "  8,\n",
       "  9,\n",
       "  10,\n",
       "  11,\n",
       "  12,\n",
       "  13,\n",
       "  14,\n",
       "  15,\n",
       "  16,\n",
       "  17,\n",
       "  18,\n",
       "  19,\n",
       "  20,\n",
       "  21,\n",
       "  22,\n",
       "  23,\n",
       "  24,\n",
       "  25,\n",
       "  26,\n",
       "  27,\n",
       "  28,\n",
       "  29,\n",
       "  30,\n",
       "  31,\n",
       "  32,\n",
       "  33,\n",
       "  34,\n",
       "  35,\n",
       "  36,\n",
       "  37,\n",
       "  38,\n",
       "  39,\n",
       "  40,\n",
       "  41,\n",
       "  42,\n",
       "  43,\n",
       "  44,\n",
       "  45,\n",
       "  46,\n",
       "  47,\n",
       "  48,\n",
       "  49,\n",
       "  50,\n",
       "  51,\n",
       "  52,\n",
       "  53,\n",
       "  54,\n",
       "  55,\n",
       "  56,\n",
       "  57,\n",
       "  58,\n",
       "  59,\n",
       "  60],\n",
       " <a list of 61 Text xticklabel objects>)"
      ]
     },
     "execution_count": 27,
     "metadata": {},
     "output_type": "execute_result"
    },
    {
     "data": {
      "image/png": "[encoded data removed]",
      "text/plain": [
       "<Figure size 1440x576 with 1 Axes>"
      ]
     },
     "metadata": {
      "needs_background": "light"
     },
     "output_type": "display_data"
    }
   ],
   "source": [
    "df_world=df_countrymax.groupby('date').sum()\n",
    "df_world.reset_index(inplace=True)\n",
    "\n",
    "x=df_world.date\n",
    "k=df_world.active\n",
    "z=df_world.deaths\n",
    "w=df_world.recovered\n",
    "y=df_world.confirmed\n",
    "\n",
    "plt.figure(figsize=(20,8))\n",
    "plt.plot(x,y, 'r-',label='Confirmed')\n",
    "plt.plot(x,z,'b-', label='Deaths')\n",
    "plt.plot(x,w,'y-', label='Recovered')\n",
    "plt.plot(x,k,'g-', label='Carrier')\n",
    "plt.legend()\n",
    "plt.xticks(rotation=45)\n",
    "#plt.savefig('world curves.png')"
   ]
  },
  {
   "cell_type": "code",
   "execution_count": 28,
   "metadata": {},
   "outputs": [],
   "source": [
    "data=df"
   ]
  },
  {
   "cell_type": "markdown",
   "metadata": {},
   "source": [
    "# World Population"
   ]
  },
  {
   "cell_type": "code",
   "execution_count": 29,
   "metadata": {},
   "outputs": [
    {
     "name": "stdout",
     "output_type": "stream",
     "text": [
      "<class 'pandas.core.frame.DataFrame'>\n",
      "RangeIndex: 235 entries, 0 to 234\n",
      "Data columns (total 5 columns):\n",
      "country         235 non-null object\n",
      "pop20           235 non-null int64\n",
      "ppl_km          235 non-null int64\n",
      "avg_age         235 non-null object\n",
      "urbanization    235 non-null object\n",
      "dtypes: int64(2), object(3)\n",
      "memory usage: 9.3+ KB\n"
     ]
    }
   ],
   "source": [
    "ppl.info()"
   ]
  },
  {
   "cell_type": "code",
   "execution_count": 30,
   "metadata": {},
   "outputs": [
    {
     "data": {
      "text/plain": [
       "country         0\n",
       "pop20           0\n",
       "ppl_km          0\n",
       "avg_age         0\n",
       "urbanization    0\n",
       "dtype: int64"
      ]
     },
     "execution_count": 30,
     "metadata": {},
     "output_type": "execute_result"
    }
   ],
   "source": [
    "ppl.isna().sum()"
   ]
  },
  {
   "cell_type": "markdown",
   "metadata": {},
   "source": [
    "It seems that in average age the unknown average is actually written as N.A.; the same problem encoutered with urbanization.\n",
    "<br>\n",
    "Substitute everything with the mean in the world population"
   ]
  },
  {
   "cell_type": "code",
   "execution_count": 31,
   "metadata": {},
   "outputs": [],
   "source": [
    "ppl.loc[ppl['urbanization']=='N.A.', 'urbanization'] = int(ppl.loc[ppl['urbanization']!='N.A.', 'urbanization'].mode()[0])\n",
    "ppl['urbanization'] = ppl['urbanization'].astype('int64')\n",
    "\n",
    "ppl.loc[ppl['avg_age']=='N.A.', 'avg_age'] = int(ppl.loc[ppl['avg_age']!='N.A.', 'avg_age'].mode()[0])\n",
    "ppl['avg_age'] = ppl['avg_age'].astype('int64')\n"
   ]
  },
  {
   "cell_type": "code",
   "execution_count": 32,
   "metadata": {
    "scrolled": true
   },
   "outputs": [
    {
     "data": {
      "text/html": [
       "<div>\n",
       "<style scoped>\n",
       "    .dataframe tbody tr th:only-of-type {\n",
       "        vertical-align: middle;\n",
       "    }\n",
       "\n",
       "    .dataframe tbody tr th {\n",
       "        vertical-align: top;\n",
       "    }\n",
       "\n",
       "    .dataframe thead th {\n",
       "        text-align: right;\n",
       "    }\n",
       "</style>\n",
       "<table border=\"1\" class=\"dataframe\">\n",
       "  <thead>\n",
       "    <tr style=\"text-align: right;\">\n",
       "      <th></th>\n",
       "      <th>country</th>\n",
       "      <th>pop20</th>\n",
       "      <th>ppl_km</th>\n",
       "      <th>avg_age</th>\n",
       "      <th>urbanization</th>\n",
       "    </tr>\n",
       "  </thead>\n",
       "  <tbody>\n",
       "    <tr>\n",
       "      <th>0</th>\n",
       "      <td>China</td>\n",
       "      <td>1439323776</td>\n",
       "      <td>153</td>\n",
       "      <td>38</td>\n",
       "      <td>61</td>\n",
       "    </tr>\n",
       "    <tr>\n",
       "      <th>1</th>\n",
       "      <td>India</td>\n",
       "      <td>1380004385</td>\n",
       "      <td>464</td>\n",
       "      <td>28</td>\n",
       "      <td>35</td>\n",
       "    </tr>\n",
       "    <tr>\n",
       "      <th>2</th>\n",
       "      <td>US</td>\n",
       "      <td>331002651</td>\n",
       "      <td>36</td>\n",
       "      <td>38</td>\n",
       "      <td>83</td>\n",
       "    </tr>\n",
       "    <tr>\n",
       "      <th>3</th>\n",
       "      <td>Indonesia</td>\n",
       "      <td>273523615</td>\n",
       "      <td>151</td>\n",
       "      <td>30</td>\n",
       "      <td>56</td>\n",
       "    </tr>\n",
       "    <tr>\n",
       "      <th>4</th>\n",
       "      <td>Pakistan</td>\n",
       "      <td>220892340</td>\n",
       "      <td>287</td>\n",
       "      <td>23</td>\n",
       "      <td>35</td>\n",
       "    </tr>\n",
       "  </tbody>\n",
       "</table>\n",
       "</div>"
      ],
      "text/plain": [
       "     country       pop20  ppl_km  avg_age  urbanization\n",
       "0      China  1439323776     153       38            61\n",
       "1      India  1380004385     464       28            35\n",
       "2         US   331002651      36       38            83\n",
       "3  Indonesia   273523615     151       30            56\n",
       "4   Pakistan   220892340     287       23            35"
      ]
     },
     "execution_count": 32,
     "metadata": {},
     "output_type": "execute_result"
    }
   ],
   "source": [
    "ppl.head()\n",
    "#ppl.info()"
   ]
  },
  {
   "cell_type": "code",
   "execution_count": 33,
   "metadata": {},
   "outputs": [
    {
     "data": {
      "text/html": [
       "<div>\n",
       "<style scoped>\n",
       "    .dataframe tbody tr th:only-of-type {\n",
       "        vertical-align: middle;\n",
       "    }\n",
       "\n",
       "    .dataframe tbody tr th {\n",
       "        vertical-align: top;\n",
       "    }\n",
       "\n",
       "    .dataframe thead th {\n",
       "        text-align: right;\n",
       "    }\n",
       "</style>\n",
       "<table border=\"1\" class=\"dataframe\">\n",
       "  <thead>\n",
       "    <tr style=\"text-align: right;\">\n",
       "      <th></th>\n",
       "      <th>date</th>\n",
       "      <th>country</th>\n",
       "      <th>prov_state</th>\n",
       "      <th>country_prov</th>\n",
       "      <th>confirmed</th>\n",
       "      <th>deaths</th>\n",
       "      <th>recovered</th>\n",
       "      <th>active</th>\n",
       "    </tr>\n",
       "    <tr>\n",
       "      <th>SNo</th>\n",
       "      <th></th>\n",
       "      <th></th>\n",
       "      <th></th>\n",
       "      <th></th>\n",
       "      <th></th>\n",
       "      <th></th>\n",
       "      <th></th>\n",
       "      <th></th>\n",
       "    </tr>\n",
       "  </thead>\n",
       "  <tbody>\n",
       "    <tr>\n",
       "      <th>1</th>\n",
       "      <td>01/22/2020</td>\n",
       "      <td>China</td>\n",
       "      <td>Anhui</td>\n",
       "      <td>China_Anhui</td>\n",
       "      <td>1</td>\n",
       "      <td>0</td>\n",
       "      <td>0</td>\n",
       "      <td>1</td>\n",
       "    </tr>\n",
       "    <tr>\n",
       "      <th>2</th>\n",
       "      <td>01/22/2020</td>\n",
       "      <td>China</td>\n",
       "      <td>Beijing</td>\n",
       "      <td>China_Beijing</td>\n",
       "      <td>14</td>\n",
       "      <td>0</td>\n",
       "      <td>0</td>\n",
       "      <td>14</td>\n",
       "    </tr>\n",
       "    <tr>\n",
       "      <th>3</th>\n",
       "      <td>01/22/2020</td>\n",
       "      <td>China</td>\n",
       "      <td>Chongqing</td>\n",
       "      <td>China_Chongqing</td>\n",
       "      <td>6</td>\n",
       "      <td>0</td>\n",
       "      <td>0</td>\n",
       "      <td>6</td>\n",
       "    </tr>\n",
       "    <tr>\n",
       "      <th>4</th>\n",
       "      <td>01/22/2020</td>\n",
       "      <td>China</td>\n",
       "      <td>Fujian</td>\n",
       "      <td>China_Fujian</td>\n",
       "      <td>1</td>\n",
       "      <td>0</td>\n",
       "      <td>0</td>\n",
       "      <td>1</td>\n",
       "    </tr>\n",
       "    <tr>\n",
       "      <th>5</th>\n",
       "      <td>01/22/2020</td>\n",
       "      <td>China</td>\n",
       "      <td>Gansu</td>\n",
       "      <td>China_Gansu</td>\n",
       "      <td>0</td>\n",
       "      <td>0</td>\n",
       "      <td>0</td>\n",
       "      <td>0</td>\n",
       "    </tr>\n",
       "  </tbody>\n",
       "</table>\n",
       "</div>"
      ],
      "text/plain": [
       "           date country prov_state     country_prov  confirmed  deaths  \\\n",
       "SNo                                                                      \n",
       "1    01/22/2020   China      Anhui      China_Anhui          1       0   \n",
       "2    01/22/2020   China    Beijing    China_Beijing         14       0   \n",
       "3    01/22/2020   China  Chongqing  China_Chongqing          6       0   \n",
       "4    01/22/2020   China     Fujian     China_Fujian          1       0   \n",
       "5    01/22/2020   China      Gansu      China_Gansu          0       0   \n",
       "\n",
       "     recovered  active  \n",
       "SNo                     \n",
       "1            0       1  \n",
       "2            0      14  \n",
       "3            0       6  \n",
       "4            0       1  \n",
       "5            0       0  "
      ]
     },
     "execution_count": 33,
     "metadata": {},
     "output_type": "execute_result"
    }
   ],
   "source": [
    "data.head()"
   ]
  },
  {
   "cell_type": "code",
   "execution_count": 34,
   "metadata": {},
   "outputs": [
    {
     "name": "stdout",
     "output_type": "stream",
     "text": [
      "Stored 'data' (DataFrame)\n",
      "Stored 'ppl' (DataFrame)\n",
      "Stored 'df_countrymax' (DataFrame)\n"
     ]
    }
   ],
   "source": [
    "%store data\n",
    "%store ppl\n",
    "%store df_countrymax"
   ]
  },
  {
   "cell_type": "code",
   "execution_count": null,
   "metadata": {},
   "outputs": [],
   "source": []
  }
 ],
 "metadata": {
  "kernelspec": {
   "display_name": "Python 3",
   "language": "python",
   "name": "python3"
  },
  "language_info": {
   "codemirror_mode": {
    "name": "ipython",
    "version": 3
   },
   "file_extension": ".py",
   "mimetype": "text/x-python",
   "name": "python",
   "nbconvert_exporter": "python",
   "pygments_lexer": "ipython3",
   "version": "3.7.4"
  }
 },
 "nbformat": 4,
 "nbformat_minor": 4
}
