{
 "cells": [
  {
   "cell_type": "markdown",
   "metadata": {},
   "source": [
    "#### To let the notebook properly run: define here below which is the target variable and download only the correct df; define target_def as the name of your target variable  "
   ]
  },
  {
   "cell_type": "markdown",
   "metadata": {},
   "source": [
    "remember to set the right path for storing the graphs, or to reset pars for country_plot for not saving them "
   ]
  },
  {
   "cell_type": "code",
   "execution_count": 1,
   "metadata": {},
   "outputs": [],
   "source": [
    "%store -r data_merged\n",
    "%store -r confirmed\n",
    "\n",
    "dt_target=confirmed.copy()\n",
    "target_def='confirmed'"
   ]
  },
  {
   "cell_type": "markdown",
   "metadata": {},
   "source": [
    "# Packages and Basic information"
   ]
  },
  {
   "cell_type": "code",
   "execution_count": 2,
   "metadata": {},
   "outputs": [],
   "source": [
    "import numpy as np\n",
    "import matplotlib.pyplot as plt\n",
    "import seaborn as sns\n",
    "import pandas as pd"
   ]
  },
  {
   "cell_type": "code",
   "execution_count": 3,
   "metadata": {},
   "outputs": [],
   "source": [
    "from sklearn.model_selection import GridSearchCV \n",
    "import xgboost as xgb\n",
    "from sklearn.preprocessing import scale\n",
    "from sklearn import metrics\n"
   ]
  },
  {
   "cell_type": "code",
   "execution_count": 4,
   "metadata": {},
   "outputs": [],
   "source": [
    "import warnings\n",
    "warnings.filterwarnings(\"ignore\")"
   ]
  },
  {
   "cell_type": "markdown",
   "metadata": {},
   "source": [
    "# Dataset creation"
   ]
  },
  {
   "cell_type": "code",
   "execution_count": 5,
   "metadata": {},
   "outputs": [],
   "source": [
    "df=data_merged.merge(dt_target,right_index=True,left_index=True)\n",
    "countries=df.country\n",
    "dates=df.date\n",
    "to_keep=df[target_def]"
   ]
  },
  {
   "cell_type": "code",
   "execution_count": 6,
   "metadata": {},
   "outputs": [
    {
     "name": "stdout",
     "output_type": "stream",
     "text": [
      "(7900, 6)\n"
     ]
    }
   ],
   "source": [
    "data=df.drop(['day','country_prov','ppl_km','urbanization','month','date','country','avg_age','pop20','confirmed',\n",
    "              'active','deaths','recovered',target_def+'_lag_4',target_def+'_lag_5',target_def+'_lag_6'],1)\n",
    "data[target_def]=to_keep\n",
    "print(data.shape)"
   ]
  },
  {
   "cell_type": "code",
   "execution_count": 7,
   "metadata": {},
   "outputs": [],
   "source": [
    "data2=data.copy()\n",
    "data2['date_code2']=df.date_code\n",
    "data2['country_prov']=df.country_prov"
   ]
  },
  {
   "cell_type": "code",
   "execution_count": 8,
   "metadata": {
    "scrolled": true
   },
   "outputs": [
    {
     "data": {
      "text/html": [
       "<div>\n",
       "<style scoped>\n",
       "    .dataframe tbody tr th:only-of-type {\n",
       "        vertical-align: middle;\n",
       "    }\n",
       "\n",
       "    .dataframe tbody tr th {\n",
       "        vertical-align: top;\n",
       "    }\n",
       "\n",
       "    .dataframe thead th {\n",
       "        text-align: right;\n",
       "    }\n",
       "</style>\n",
       "<table border=\"1\" class=\"dataframe\">\n",
       "  <thead>\n",
       "    <tr style=\"text-align: right;\">\n",
       "      <th></th>\n",
       "      <th>date_code</th>\n",
       "      <th>country_code</th>\n",
       "      <th>confirmed_lag_1</th>\n",
       "      <th>confirmed_lag_2</th>\n",
       "      <th>confirmed_lag_3</th>\n",
       "      <th>confirmed</th>\n",
       "    </tr>\n",
       "  </thead>\n",
       "  <tbody>\n",
       "    <tr>\n",
       "      <th>0</th>\n",
       "      <td>0</td>\n",
       "      <td>61</td>\n",
       "      <td>0</td>\n",
       "      <td>0</td>\n",
       "      <td>0</td>\n",
       "      <td>1</td>\n",
       "    </tr>\n",
       "    <tr>\n",
       "      <th>1</th>\n",
       "      <td>0</td>\n",
       "      <td>62</td>\n",
       "      <td>0</td>\n",
       "      <td>0</td>\n",
       "      <td>0</td>\n",
       "      <td>14</td>\n",
       "    </tr>\n",
       "    <tr>\n",
       "      <th>2</th>\n",
       "      <td>0</td>\n",
       "      <td>63</td>\n",
       "      <td>0</td>\n",
       "      <td>0</td>\n",
       "      <td>0</td>\n",
       "      <td>6</td>\n",
       "    </tr>\n",
       "    <tr>\n",
       "      <th>3</th>\n",
       "      <td>0</td>\n",
       "      <td>64</td>\n",
       "      <td>0</td>\n",
       "      <td>0</td>\n",
       "      <td>0</td>\n",
       "      <td>1</td>\n",
       "    </tr>\n",
       "    <tr>\n",
       "      <th>4</th>\n",
       "      <td>0</td>\n",
       "      <td>65</td>\n",
       "      <td>0</td>\n",
       "      <td>0</td>\n",
       "      <td>0</td>\n",
       "      <td>0</td>\n",
       "    </tr>\n",
       "  </tbody>\n",
       "</table>\n",
       "</div>"
      ],
      "text/plain": [
       "   date_code  country_code  confirmed_lag_1  confirmed_lag_2  confirmed_lag_3  \\\n",
       "0          0            61                0                0                0   \n",
       "1          0            62                0                0                0   \n",
       "2          0            63                0                0                0   \n",
       "3          0            64                0                0                0   \n",
       "4          0            65                0                0                0   \n",
       "\n",
       "   confirmed  \n",
       "0          1  \n",
       "1         14  \n",
       "2          6  \n",
       "3          1  \n",
       "4          0  "
      ]
     },
     "execution_count": 8,
     "metadata": {},
     "output_type": "execute_result"
    }
   ],
   "source": [
    "data.head()"
   ]
  },
  {
   "cell_type": "code",
   "execution_count": 9,
   "metadata": {
    "scrolled": true
   },
   "outputs": [
    {
     "name": "stdout",
     "output_type": "stream",
     "text": [
      "<class 'pandas.core.frame.DataFrame'>\n",
      "Int64Index: 7900 entries, 0 to 7925\n",
      "Data columns (total 6 columns):\n",
      " #   Column           Non-Null Count  Dtype\n",
      "---  ------           --------------  -----\n",
      " 0   date_code        7900 non-null   int64\n",
      " 1   country_code     7900 non-null   int32\n",
      " 2   confirmed_lag_1  7900 non-null   int32\n",
      " 3   confirmed_lag_2  7900 non-null   int32\n",
      " 4   confirmed_lag_3  7900 non-null   int32\n",
      " 5   confirmed        7900 non-null   int32\n",
      "dtypes: int32(5), int64(1)\n",
      "memory usage: 597.7 KB\n"
     ]
    }
   ],
   "source": [
    "data.info()"
   ]
  },
  {
   "cell_type": "markdown",
   "metadata": {},
   "source": [
    "# Preprocessing"
   ]
  },
  {
   "cell_type": "markdown",
   "metadata": {},
   "source": [
    "#### log transform --optional"
   ]
  },
  {
   "cell_type": "code",
   "execution_count": 10,
   "metadata": {},
   "outputs": [],
   "source": [
    "#def log_func(df,col):\n",
    "#    df[col]=[np.log(x+1) for x in df[col].values]\n",
    "#    return(df)"
   ]
  },
  {
   "cell_type": "code",
   "execution_count": 11,
   "metadata": {},
   "outputs": [],
   "source": [
    "#cols=data.iloc[:,4:].columns\n",
    "#for c in cols:\n",
    "#    log_func(data,c)\n",
    "#data.shape"
   ]
  },
  {
   "cell_type": "markdown",
   "metadata": {},
   "source": [
    "#### scaling --useless"
   ]
  },
  {
   "cell_type": "code",
   "execution_count": 12,
   "metadata": {},
   "outputs": [],
   "source": [
    "cols=data.columns\n",
    "for c in cols:\n",
    "    data[c]=scale(data[c])\n",
    "data.shape\n",
    "\n",
    "data['country_prov']=df.country_prov\n",
    "data['date_code2']=df.date_code"
   ]
  },
  {
   "cell_type": "markdown",
   "metadata": {},
   "source": [
    "# Functions"
   ]
  },
  {
   "cell_type": "markdown",
   "metadata": {},
   "source": [
    "1. **calculate_lag**: it allows to create temporal lags and store them into the dataset as features\n",
    "2. **split_date**: splits data in testset and trainset with explanatory and target variables based on date.<br> *additional features*: <br>\n",
    "    a. if requested, returns just train and test\n",
    "    b. verbosity\n",
    "    c. setting the dates to be in specific ranges (day_lim_min,day_lim_max)\n",
    "3. **all_regression**: aggregative function; it allows to obtain the predictions. it is based on a loop cycle to let the test to be recomputed at each cycle with the new predicted lags\n",
    "4. **country_plot**: it lets to plot predictions and real values\n",
    "5. **metrics_score**: fast way to develop main KPIs on the model"
   ]
  },
  {
   "cell_type": "code",
   "execution_count": 13,
   "metadata": {},
   "outputs": [],
   "source": [
    "def calculate_lag(df, lag_list, column):\n",
    "    for lag in lag_list:\n",
    "        column_lag = column + \"_lag_\" + str(lag)\n",
    "        df[column_lag] = df.groupby(['country_prov'])[column].shift(lag, fill_value=0)\n",
    "    return df"
   ]
  },
  {
   "cell_type": "code",
   "execution_count": 14,
   "metadata": {},
   "outputs": [],
   "source": [
    "#split data based on the day (especially date_code)\n",
    "def split_date(day_lim,day_lim_max=-1,df=data,target=target_def,country='none', just_train=False):\n",
    "    \n",
    "    #utility to whether define country or not\n",
    "    if country != 'none':\n",
    "        df=df[df['country_prov']==country]\n",
    "    else:\n",
    "        pass\n",
    "    \n",
    "    train=df[df['date_code2']<day_lim]\n",
    "    test=df[df['date_code2']>=day_lim]\n",
    "    \n",
    "    if just_train==True:\n",
    "        return (train,test)\n",
    "    else:\n",
    "        train.drop(['country_prov'],1,inplace=True)\n",
    "        test.drop(['country_prov'],1,inplace=True)\n",
    "\n",
    "        X_train=train.drop([target],1)\n",
    "        y_train=train[target]\n",
    "\n",
    "        X_test=test.drop([target],1)\n",
    "        y_test=test[target]\n",
    "        if day_lim_max!=-1:\n",
    "            X_test=X_test[X_test['date_code2']<=day_lim_max]\n",
    "        \n",
    "        X_test.drop('date_code2',1,inplace=True)\n",
    "        X_train.drop('date_code2',1,inplace=True)\n",
    "        \n",
    "        print('train and test shape:',X_train.shape,X_test.shape)\n",
    "        \n",
    "        return (X_train,y_train,X_test,y_test)"
   ]
  },
  {
   "cell_type": "code",
   "execution_count": 15,
   "metadata": {},
   "outputs": [],
   "source": [
    "def all_regression(lr,a,o,cb,rs,day_start,end=60,df_standardized=data,df=data2, target=target_def,lags=4):\n",
    "    \n",
    "    df2=df_standardized.copy()   \n",
    "    df3=df.copy()\n",
    "    \n",
    "    #setting parameters\n",
    "    X_train,y_train,X_test,y_test = split_date(df=df3,day_lim=day_start,target=target)\n",
    "    regr = xgb.XGBRegressor(learning_rate=lr,random_state=rs,alpha=a,colsample_bytree=cb,objective=o)\n",
    "    regr.fit(X_train, y_train)\n",
    "    \n",
    "    # prediction for each day, iteratively\n",
    "    for d in list(range(day_start,end+1)):\n",
    "        print('day:',d)\n",
    "        \n",
    "        #1. split train and test\n",
    "        X_train,y_train,X_test,y_test = split_date(df=df3,day_lim=day_start,day_lim_max=d,target=target)\n",
    "        \n",
    "        #2. predict through Ridge and cleaning insensated data\n",
    "        pred = pd.Series(regr.predict(X_test))\n",
    "        pred= pred.values\n",
    "        pred[pred<0]=0\n",
    "        pred= np.around(pred)\n",
    "\n",
    "        #3. save predictions as new confirmed case\n",
    "        idx=df3.loc[df.date_code>=day_start].index.values\n",
    "        idx=idx[:len(pred)]\n",
    "        for j,i in list(zip(idx,pred)):\n",
    "            df3.loc[j,target]=i\n",
    "        \n",
    "        #4. recompute lags for df copied\n",
    "        df3 = calculate_lag(df3, range(1,lags), target)\n",
    "        \n",
    "    #df2 returned must be then split in train and test, the new test will be the finite one\n",
    "    train,test=split_date(df=df3,day_lim=day_start,just_train=True)\n",
    "    #test=test['confirmed']\n",
    "    return train,test\n",
    "\n"
   ]
  },
  {
   "cell_type": "code",
   "execution_count": 16,
   "metadata": {},
   "outputs": [],
   "source": [
    "from datetime import datetime\n",
    "import matplotlib.dates as mdates\n",
    "def country_plot(df,title='ABC',x_size=20,y_size=6,split='2020-03-16',save_fig=False,path=''):\n",
    "    s= datetime.strptime(split, '%Y-%m-%d')\n",
    "    plt.figure(figsize=(x_size,y_size))\n",
    "\n",
    "    x_values = df['date']\n",
    "    y_values=df['real']\n",
    "    z_values=df['prediction']\n",
    "\n",
    "    plt.plot(x_values,z_values, 'g-',label='predictions')\n",
    "    plt.plot(x_values,y_values, 'r-', label='real')\n",
    "    plt.axvline(s, linestyle='--')\n",
    "    plt.title(title)\n",
    "    plt.legend()\n",
    "    plt.xticks(rotation=45)\n",
    "    if save_fig==True:\n",
    "        plt.savefig(path+title+'-lasso.png')\n",
    "    return(plt.show())"
   ]
  },
  {
   "cell_type": "code",
   "execution_count": 17,
   "metadata": {},
   "outputs": [],
   "source": [
    "def metrics_score(model,X_train,y_train,X_test,y_test):\n",
    "    print('********************************** Testset *********************************')\n",
    "    print('')\n",
    "    print(\"MAE test: \", metrics.mean_absolute_error(y_test, model.predict(X_test))) \n",
    "    print(\"MSE test: \",metrics.mean_squared_error(y_test, model.predict(X_test)))\n",
    "    print(\"RMSE test: \",np.sqrt(metrics.mean_squared_error(y_test, model.predict(X_test))))\n",
    "    print(\"r2: \",np.sqrt(metrics.r2_score(y_test, model.predict(X_test))))"
   ]
  },
  {
   "cell_type": "markdown",
   "metadata": {},
   "source": [
    "------------------------------------"
   ]
  },
  {
   "cell_type": "markdown",
   "metadata": {},
   "source": [
    "# Predictions"
   ]
  },
  {
   "cell_type": "code",
   "execution_count": 18,
   "metadata": {},
   "outputs": [
    {
     "name": "stdout",
     "output_type": "stream",
     "text": [
      "60 0\n"
     ]
    }
   ],
   "source": [
    "print(data.date_code2.max(),data.date_code2.min())"
   ]
  },
  {
   "cell_type": "markdown",
   "metadata": {},
   "source": [
    "## Confirmed "
   ]
  },
  {
   "cell_type": "markdown",
   "metadata": {},
   "source": [
    "#### define the day of start for reasearch"
   ]
  },
  {
   "cell_type": "code",
   "execution_count": 19,
   "metadata": {},
   "outputs": [],
   "source": [
    "day=55"
   ]
  },
  {
   "cell_type": "markdown",
   "metadata": {},
   "source": [
    "#### searching for best Ridge pars "
   ]
  },
  {
   "cell_type": "code",
   "execution_count": 20,
   "metadata": {},
   "outputs": [
    {
     "name": "stdout",
     "output_type": "stream",
     "text": [
      "train and test shape: (6154, 5) (1746, 5)\n"
     ]
    }
   ],
   "source": [
    "X_train,y_train,X_test,y_test = split_date(df=data2,day_lim=day,target=target_def)"
   ]
  },
  {
   "cell_type": "code",
   "execution_count": 21,
   "metadata": {},
   "outputs": [],
   "source": [
    "reg=xgb.XGBRegressor()\n",
    "pars={'learning_rate':[0.1,0.2],\n",
    "     'objective':['reg:linear'],\n",
    "      'alpha':[0.01,0.1,0,1],\n",
    "      'colsample_bytree':[0.3,0.4],\n",
    "     'random_state':[123]}"
   ]
  },
  {
   "cell_type": "code",
   "execution_count": 22,
   "metadata": {},
   "outputs": [
    {
     "name": "stdout",
     "output_type": "stream",
     "text": [
      "[20:00:13] WARNING: C:/Users/Administrator/workspace/xgboost-win64_release_1.0.0/src/objective/regression_obj.cu:167: reg:linear is now deprecated in favor of reg:squarederror.\n",
      "[20:00:13] WARNING: C:/Users/Administrator/workspace/xgboost-win64_release_1.0.0/src/objective/regression_obj.cu:167: reg:linear is now deprecated in favor of reg:squarederror.\n",
      "[20:00:14] WARNING: C:/Users/Administrator/workspace/xgboost-win64_release_1.0.0/src/objective/regression_obj.cu:167: reg:linear is now deprecated in favor of reg:squarederror.\n",
      "[20:00:14] WARNING: C:/Users/Administrator/workspace/xgboost-win64_release_1.0.0/src/objective/regression_obj.cu:167: reg:linear is now deprecated in favor of reg:squarederror.\n",
      "[20:00:14] WARNING: C:/Users/Administrator/workspace/xgboost-win64_release_1.0.0/src/objective/regression_obj.cu:167: reg:linear is now deprecated in favor of reg:squarederror.\n",
      "[20:00:14] WARNING: C:/Users/Administrator/workspace/xgboost-win64_release_1.0.0/src/objective/regression_obj.cu:167: reg:linear is now deprecated in favor of reg:squarederror.\n",
      "[20:00:14] WARNING: C:/Users/Administrator/workspace/xgboost-win64_release_1.0.0/src/objective/regression_obj.cu:167: reg:linear is now deprecated in favor of reg:squarederror.\n",
      "[20:00:15] WARNING: C:/Users/Administrator/workspace/xgboost-win64_release_1.0.0/src/objective/regression_obj.cu:167: reg:linear is now deprecated in favor of reg:squarederror.\n",
      "[20:00:15] WARNING: C:/Users/Administrator/workspace/xgboost-win64_release_1.0.0/src/objective/regression_obj.cu:167: reg:linear is now deprecated in favor of reg:squarederror.\n",
      "[20:00:15] WARNING: C:/Users/Administrator/workspace/xgboost-win64_release_1.0.0/src/objective/regression_obj.cu:167: reg:linear is now deprecated in favor of reg:squarederror.\n",
      "[20:00:15] WARNING: C:/Users/Administrator/workspace/xgboost-win64_release_1.0.0/src/objective/regression_obj.cu:167: reg:linear is now deprecated in favor of reg:squarederror.\n",
      "[20:00:15] WARNING: C:/Users/Administrator/workspace/xgboost-win64_release_1.0.0/src/objective/regression_obj.cu:167: reg:linear is now deprecated in favor of reg:squarederror.\n",
      "[20:00:16] WARNING: C:/Users/Administrator/workspace/xgboost-win64_release_1.0.0/src/objective/regression_obj.cu:167: reg:linear is now deprecated in favor of reg:squarederror.\n",
      "[20:00:16] WARNING: C:/Users/Administrator/workspace/xgboost-win64_release_1.0.0/src/objective/regression_obj.cu:167: reg:linear is now deprecated in favor of reg:squarederror.\n",
      "[20:00:16] WARNING: C:/Users/Administrator/workspace/xgboost-win64_release_1.0.0/src/objective/regression_obj.cu:167: reg:linear is now deprecated in favor of reg:squarederror.\n",
      "[20:00:16] WARNING: C:/Users/Administrator/workspace/xgboost-win64_release_1.0.0/src/objective/regression_obj.cu:167: reg:linear is now deprecated in favor of reg:squarederror.\n",
      "[20:00:17] WARNING: C:/Users/Administrator/workspace/xgboost-win64_release_1.0.0/src/objective/regression_obj.cu:167: reg:linear is now deprecated in favor of reg:squarederror.\n",
      "[20:00:17] WARNING: C:/Users/Administrator/workspace/xgboost-win64_release_1.0.0/src/objective/regression_obj.cu:167: reg:linear is now deprecated in favor of reg:squarederror.\n",
      "[20:00:17] WARNING: C:/Users/Administrator/workspace/xgboost-win64_release_1.0.0/src/objective/regression_obj.cu:167: reg:linear is now deprecated in favor of reg:squarederror.\n",
      "[20:00:17] WARNING: C:/Users/Administrator/workspace/xgboost-win64_release_1.0.0/src/objective/regression_obj.cu:167: reg:linear is now deprecated in favor of reg:squarederror.\n",
      "[20:00:17] WARNING: C:/Users/Administrator/workspace/xgboost-win64_release_1.0.0/src/objective/regression_obj.cu:167: reg:linear is now deprecated in favor of reg:squarederror.\n",
      "[20:00:18] WARNING: C:/Users/Administrator/workspace/xgboost-win64_release_1.0.0/src/objective/regression_obj.cu:167: reg:linear is now deprecated in favor of reg:squarederror.\n",
      "[20:00:18] WARNING: C:/Users/Administrator/workspace/xgboost-win64_release_1.0.0/src/objective/regression_obj.cu:167: reg:linear is now deprecated in favor of reg:squarederror.\n",
      "[20:00:18] WARNING: C:/Users/Administrator/workspace/xgboost-win64_release_1.0.0/src/objective/regression_obj.cu:167: reg:linear is now deprecated in favor of reg:squarederror.\n",
      "[20:00:18] WARNING: C:/Users/Administrator/workspace/xgboost-win64_release_1.0.0/src/objective/regression_obj.cu:167: reg:linear is now deprecated in favor of reg:squarederror.\n",
      "[20:00:19] WARNING: C:/Users/Administrator/workspace/xgboost-win64_release_1.0.0/src/objective/regression_obj.cu:167: reg:linear is now deprecated in favor of reg:squarederror.\n",
      "[20:00:19] WARNING: C:/Users/Administrator/workspace/xgboost-win64_release_1.0.0/src/objective/regression_obj.cu:167: reg:linear is now deprecated in favor of reg:squarederror.\n",
      "[20:00:19] WARNING: C:/Users/Administrator/workspace/xgboost-win64_release_1.0.0/src/objective/regression_obj.cu:167: reg:linear is now deprecated in favor of reg:squarederror.\n",
      "[20:00:19] WARNING: C:/Users/Administrator/workspace/xgboost-win64_release_1.0.0/src/objective/regression_obj.cu:167: reg:linear is now deprecated in favor of reg:squarederror.\n",
      "[20:00:20] WARNING: C:/Users/Administrator/workspace/xgboost-win64_release_1.0.0/src/objective/regression_obj.cu:167: reg:linear is now deprecated in favor of reg:squarederror.\n",
      "[20:00:20] WARNING: C:/Users/Administrator/workspace/xgboost-win64_release_1.0.0/src/objective/regression_obj.cu:167: reg:linear is now deprecated in favor of reg:squarederror.\n",
      "[20:00:20] WARNING: C:/Users/Administrator/workspace/xgboost-win64_release_1.0.0/src/objective/regression_obj.cu:167: reg:linear is now deprecated in favor of reg:squarederror.\n",
      "[20:00:20] WARNING: C:/Users/Administrator/workspace/xgboost-win64_release_1.0.0/src/objective/regression_obj.cu:167: reg:linear is now deprecated in favor of reg:squarederror.\n",
      "[20:00:21] WARNING: C:/Users/Administrator/workspace/xgboost-win64_release_1.0.0/src/objective/regression_obj.cu:167: reg:linear is now deprecated in favor of reg:squarederror.\n",
      "[20:00:21] WARNING: C:/Users/Administrator/workspace/xgboost-win64_release_1.0.0/src/objective/regression_obj.cu:167: reg:linear is now deprecated in favor of reg:squarederror.\n",
      "[20:00:21] WARNING: C:/Users/Administrator/workspace/xgboost-win64_release_1.0.0/src/objective/regression_obj.cu:167: reg:linear is now deprecated in favor of reg:squarederror.\n",
      "[20:00:21] WARNING: C:/Users/Administrator/workspace/xgboost-win64_release_1.0.0/src/objective/regression_obj.cu:167: reg:linear is now deprecated in favor of reg:squarederror.\n",
      "[20:00:21] WARNING: C:/Users/Administrator/workspace/xgboost-win64_release_1.0.0/src/objective/regression_obj.cu:167: reg:linear is now deprecated in favor of reg:squarederror.\n",
      "[20:00:22] WARNING: C:/Users/Administrator/workspace/xgboost-win64_release_1.0.0/src/objective/regression_obj.cu:167: reg:linear is now deprecated in favor of reg:squarederror.\n",
      "[20:00:22] WARNING: C:/Users/Administrator/workspace/xgboost-win64_release_1.0.0/src/objective/regression_obj.cu:167: reg:linear is now deprecated in favor of reg:squarederror.\n",
      "[20:00:22] WARNING: C:/Users/Administrator/workspace/xgboost-win64_release_1.0.0/src/objective/regression_obj.cu:167: reg:linear is now deprecated in favor of reg:squarederror.\n",
      "[20:00:22] WARNING: C:/Users/Administrator/workspace/xgboost-win64_release_1.0.0/src/objective/regression_obj.cu:167: reg:linear is now deprecated in favor of reg:squarederror.\n",
      "[20:00:23] WARNING: C:/Users/Administrator/workspace/xgboost-win64_release_1.0.0/src/objective/regression_obj.cu:167: reg:linear is now deprecated in favor of reg:squarederror.\n",
      "[20:00:23] WARNING: C:/Users/Administrator/workspace/xgboost-win64_release_1.0.0/src/objective/regression_obj.cu:167: reg:linear is now deprecated in favor of reg:squarederror.\n",
      "[20:00:23] WARNING: C:/Users/Administrator/workspace/xgboost-win64_release_1.0.0/src/objective/regression_obj.cu:167: reg:linear is now deprecated in favor of reg:squarederror.\n",
      "[20:00:23] WARNING: C:/Users/Administrator/workspace/xgboost-win64_release_1.0.0/src/objective/regression_obj.cu:167: reg:linear is now deprecated in favor of reg:squarederror.\n",
      "[20:00:24] WARNING: C:/Users/Administrator/workspace/xgboost-win64_release_1.0.0/src/objective/regression_obj.cu:167: reg:linear is now deprecated in favor of reg:squarederror.\n"
     ]
    },
    {
     "name": "stdout",
     "output_type": "stream",
     "text": [
      "[20:00:24] WARNING: C:/Users/Administrator/workspace/xgboost-win64_release_1.0.0/src/objective/regression_obj.cu:167: reg:linear is now deprecated in favor of reg:squarederror.\n",
      "[20:00:24] WARNING: C:/Users/Administrator/workspace/xgboost-win64_release_1.0.0/src/objective/regression_obj.cu:167: reg:linear is now deprecated in favor of reg:squarederror.\n",
      "[20:00:25] WARNING: C:/Users/Administrator/workspace/xgboost-win64_release_1.0.0/src/objective/regression_obj.cu:167: reg:linear is now deprecated in favor of reg:squarederror.\n",
      "[20:00:25] WARNING: C:/Users/Administrator/workspace/xgboost-win64_release_1.0.0/src/objective/regression_obj.cu:167: reg:linear is now deprecated in favor of reg:squarederror.\n",
      "[20:00:25] WARNING: C:/Users/Administrator/workspace/xgboost-win64_release_1.0.0/src/objective/regression_obj.cu:167: reg:linear is now deprecated in favor of reg:squarederror.\n",
      "[20:00:25] WARNING: C:/Users/Administrator/workspace/xgboost-win64_release_1.0.0/src/objective/regression_obj.cu:167: reg:linear is now deprecated in favor of reg:squarederror.\n",
      "[20:00:25] WARNING: C:/Users/Administrator/workspace/xgboost-win64_release_1.0.0/src/objective/regression_obj.cu:167: reg:linear is now deprecated in favor of reg:squarederror.\n",
      "[20:00:26] WARNING: C:/Users/Administrator/workspace/xgboost-win64_release_1.0.0/src/objective/regression_obj.cu:167: reg:linear is now deprecated in favor of reg:squarederror.\n",
      "[20:00:26] WARNING: C:/Users/Administrator/workspace/xgboost-win64_release_1.0.0/src/objective/regression_obj.cu:167: reg:linear is now deprecated in favor of reg:squarederror.\n",
      "[20:00:26] WARNING: C:/Users/Administrator/workspace/xgboost-win64_release_1.0.0/src/objective/regression_obj.cu:167: reg:linear is now deprecated in favor of reg:squarederror.\n",
      "[20:00:26] WARNING: C:/Users/Administrator/workspace/xgboost-win64_release_1.0.0/src/objective/regression_obj.cu:167: reg:linear is now deprecated in favor of reg:squarederror.\n",
      "[20:00:26] WARNING: C:/Users/Administrator/workspace/xgboost-win64_release_1.0.0/src/objective/regression_obj.cu:167: reg:linear is now deprecated in favor of reg:squarederror.\n",
      "[20:00:27] WARNING: C:/Users/Administrator/workspace/xgboost-win64_release_1.0.0/src/objective/regression_obj.cu:167: reg:linear is now deprecated in favor of reg:squarederror.\n",
      "[20:00:27] WARNING: C:/Users/Administrator/workspace/xgboost-win64_release_1.0.0/src/objective/regression_obj.cu:167: reg:linear is now deprecated in favor of reg:squarederror.\n",
      "[20:00:27] WARNING: C:/Users/Administrator/workspace/xgboost-win64_release_1.0.0/src/objective/regression_obj.cu:167: reg:linear is now deprecated in favor of reg:squarederror.\n",
      "[20:00:27] WARNING: C:/Users/Administrator/workspace/xgboost-win64_release_1.0.0/src/objective/regression_obj.cu:167: reg:linear is now deprecated in favor of reg:squarederror.\n",
      "[20:00:28] WARNING: C:/Users/Administrator/workspace/xgboost-win64_release_1.0.0/src/objective/regression_obj.cu:167: reg:linear is now deprecated in favor of reg:squarederror.\n",
      "[20:00:28] WARNING: C:/Users/Administrator/workspace/xgboost-win64_release_1.0.0/src/objective/regression_obj.cu:167: reg:linear is now deprecated in favor of reg:squarederror.\n"
     ]
    },
    {
     "data": {
      "text/plain": [
       "GridSearchCV(cv=4, error_score=nan,\n",
       "             estimator=XGBRegressor(base_score=None, booster=None,\n",
       "                                    colsample_bylevel=None,\n",
       "                                    colsample_bynode=None,\n",
       "                                    colsample_bytree=None, gamma=None,\n",
       "                                    gpu_id=None, importance_type='gain',\n",
       "                                    interaction_constraints=None,\n",
       "                                    learning_rate=None, max_delta_step=None,\n",
       "                                    max_depth=None, min_child_weight=None,\n",
       "                                    missing=nan, monotone_constraints=None,\n",
       "                                    n_estima...\n",
       "                                    reg_lambda=None, scale_pos_weight=None,\n",
       "                                    subsample=None, tree_method=None,\n",
       "                                    validate_parameters=False, verbosity=None),\n",
       "             iid='deprecated', n_jobs=None,\n",
       "             param_grid={'alpha': [0.01, 0.1, 0, 1],\n",
       "                         'colsample_bytree': [0.3, 0.4],\n",
       "                         'learning_rate': [0.1, 0.2],\n",
       "                         'objective': ['reg:linear'], 'random_state': [123]},\n",
       "             pre_dispatch='2*n_jobs', refit=True, return_train_score=False,\n",
       "             scoring=None, verbose=0)"
      ]
     },
     "execution_count": 22,
     "metadata": {},
     "output_type": "execute_result"
    }
   ],
   "source": [
    "gs = GridSearchCV(reg,pars, cv=4)\n",
    "gs.fit(X_train,y_train)"
   ]
  },
  {
   "cell_type": "code",
   "execution_count": 23,
   "metadata": {},
   "outputs": [
    {
     "name": "stdout",
     "output_type": "stream",
     "text": [
      "Best score: 0.990419 using {'alpha': 0.1, 'colsample_bytree': 0.4, 'learning_rate': 0.1, 'objective': 'reg:linear', 'random_state': 123}\n"
     ]
    }
   ],
   "source": [
    "print(\"Best score: %f using %s\" % (gs.best_score_, gs.best_params_)) \n",
    "pars=gs.best_params_\n",
    "lr_best,o_best,a_best,cb_best,rs_best=pars['learning_rate'],pars['objective'],pars['alpha'],pars['colsample_bytree'],pars['random_state']"
   ]
  },
  {
   "cell_type": "markdown",
   "metadata": {},
   "source": [
    "####  predict"
   ]
  },
  {
   "cell_type": "code",
   "execution_count": 24,
   "metadata": {
    "scrolled": true
   },
   "outputs": [
    {
     "name": "stdout",
     "output_type": "stream",
     "text": [
      "train and test shape: (6154, 5) (1746, 5)\n",
      "[20:00:28] WARNING: C:/Users/Administrator/workspace/xgboost-win64_release_1.0.0/src/objective/regression_obj.cu:167: reg:linear is now deprecated in favor of reg:squarederror.\n",
      "day: 55\n",
      "train and test shape: (6154, 5) (273, 5)\n",
      "day: 56\n",
      "train and test shape: (6154, 5) (554, 5)\n",
      "day: 57\n",
      "train and test shape: (6154, 5) (843, 5)\n",
      "day: 58\n",
      "train and test shape: (6154, 5) (1139, 5)\n",
      "day: 59\n",
      "train and test shape: (6154, 5) (1440, 5)\n",
      "day: 60\n",
      "train and test shape: (6154, 5) (1746, 5)\n"
     ]
    }
   ],
   "source": [
    "train,predictions=all_regression(lr=lr_best,a=a_best,o=o_best,cb=cb_best,rs=rs_best,day_start=day)"
   ]
  },
  {
   "cell_type": "markdown",
   "metadata": {},
   "source": [
    "#### evaluate"
   ]
  },
  {
   "cell_type": "code",
   "execution_count": 25,
   "metadata": {},
   "outputs": [],
   "source": [
    "X_test=predictions.drop(['country_prov',target_def,'date_code2'],1)"
   ]
  },
  {
   "cell_type": "code",
   "execution_count": 26,
   "metadata": {},
   "outputs": [],
   "source": [
    "y_test_pred=predictions[target_def]"
   ]
  },
  {
   "cell_type": "code",
   "execution_count": 27,
   "metadata": {},
   "outputs": [
    {
     "name": "stdout",
     "output_type": "stream",
     "text": [
      "Score on Train: 0.9999599975896878\n",
      "Score on test: 0.9729340604422364\n",
      "\n",
      "********************************* Trainset *********************************\n",
      "\n",
      "MAE train:  9.492401380560443\n",
      "MSE train:  964.959675822749\n",
      "RMSE train:  31.06380008664022\n",
      "r2:  0.9999799985948158\n",
      "\n",
      "********************************** Testset *********************************\n",
      "\n",
      "MAE test:  183.42726231386024\n",
      "MSE test:  740966.3974799542\n",
      "RMSE test:  860.7940505602686\n",
      "r2:  0.9863747525469363\n"
     ]
    }
   ],
   "source": [
    "print(\"Score on Train:\", gs.score(X_train, y_train))\n",
    "print(\"Score on test:\", gs.score(X_test, y_test))\n",
    "print('')\n",
    "print('********************************* Trainset *********************************')\n",
    "print('')\n",
    "print(\"MAE train: \", metrics.mean_absolute_error(y_train, gs.predict(X_train))) \n",
    "print(\"MSE train: \",metrics.mean_squared_error(y_train, gs.predict(X_train)))\n",
    "print(\"RMSE train: \",np.sqrt(metrics.mean_squared_error(y_train, gs.predict(X_train))))\n",
    "print(\"r2: \",np.sqrt(metrics.r2_score(y_train, gs.predict(X_train))))\n",
    "print('')\n",
    "print('********************************** Testset *********************************')\n",
    "print('')\n",
    "print(\"MAE test: \", metrics.mean_absolute_error(y_test,y_test_pred )) \n",
    "print(\"MSE test: \",metrics.mean_squared_error(y_test,y_test_pred ))\n",
    "print(\"RMSE test: \",np.sqrt(metrics.mean_squared_error(y_test,y_test_pred )))\n",
    "print(\"r2: \",np.sqrt(metrics.r2_score(y_test,y_test_pred )))"
   ]
  },
  {
   "cell_type": "markdown",
   "metadata": {},
   "source": [
    "#### prepare dataset to plot"
   ]
  },
  {
   "cell_type": "code",
   "execution_count": 28,
   "metadata": {
    "scrolled": true
   },
   "outputs": [
    {
     "data": {
      "text/html": [
       "<div>\n",
       "<style scoped>\n",
       "    .dataframe tbody tr th:only-of-type {\n",
       "        vertical-align: middle;\n",
       "    }\n",
       "\n",
       "    .dataframe tbody tr th {\n",
       "        vertical-align: top;\n",
       "    }\n",
       "\n",
       "    .dataframe thead th {\n",
       "        text-align: right;\n",
       "    }\n",
       "</style>\n",
       "<table border=\"1\" class=\"dataframe\">\n",
       "  <thead>\n",
       "    <tr style=\"text-align: right;\">\n",
       "      <th></th>\n",
       "      <th>date</th>\n",
       "      <th>country</th>\n",
       "      <th>country_prov</th>\n",
       "      <th>real</th>\n",
       "      <th>prediction</th>\n",
       "    </tr>\n",
       "  </thead>\n",
       "  <tbody>\n",
       "    <tr>\n",
       "      <th>7823</th>\n",
       "      <td>2020-03-22</td>\n",
       "      <td>US</td>\n",
       "      <td>US_Alaska</td>\n",
       "      <td>21</td>\n",
       "      <td>47.0</td>\n",
       "    </tr>\n",
       "    <tr>\n",
       "      <th>7824</th>\n",
       "      <td>2020-03-22</td>\n",
       "      <td>US</td>\n",
       "      <td>US_South Dakota</td>\n",
       "      <td>21</td>\n",
       "      <td>67.0</td>\n",
       "    </tr>\n",
       "    <tr>\n",
       "      <th>7825</th>\n",
       "      <td>2020-03-22</td>\n",
       "      <td>Macao</td>\n",
       "      <td>Macao_Macao</td>\n",
       "      <td>20</td>\n",
       "      <td>68.0</td>\n",
       "    </tr>\n",
       "    <tr>\n",
       "      <th>7826</th>\n",
       "      <td>2020-03-22</td>\n",
       "      <td>Australia</td>\n",
       "      <td>Australia_Australian Capital Territory</td>\n",
       "      <td>19</td>\n",
       "      <td>2.0</td>\n",
       "    </tr>\n",
       "    <tr>\n",
       "      <th>7827</th>\n",
       "      <td>2020-03-22</td>\n",
       "      <td>Canada</td>\n",
       "      <td>Canada_Manitoba</td>\n",
       "      <td>19</td>\n",
       "      <td>38.0</td>\n",
       "    </tr>\n",
       "    <tr>\n",
       "      <th>...</th>\n",
       "      <td>...</td>\n",
       "      <td>...</td>\n",
       "      <td>...</td>\n",
       "      <td>...</td>\n",
       "      <td>...</td>\n",
       "    </tr>\n",
       "    <tr>\n",
       "      <th>7919</th>\n",
       "      <td>2020-03-22</td>\n",
       "      <td>Guam</td>\n",
       "      <td>Guam_</td>\n",
       "      <td>0</td>\n",
       "      <td>46.0</td>\n",
       "    </tr>\n",
       "    <tr>\n",
       "      <th>7922</th>\n",
       "      <td>2020-03-22</td>\n",
       "      <td>Puerto Rico</td>\n",
       "      <td>Puerto Rico_</td>\n",
       "      <td>0</td>\n",
       "      <td>72.0</td>\n",
       "    </tr>\n",
       "    <tr>\n",
       "      <th>7923</th>\n",
       "      <td>2020-03-22</td>\n",
       "      <td>DR Congo</td>\n",
       "      <td>DR Congo_</td>\n",
       "      <td>0</td>\n",
       "      <td>64.0</td>\n",
       "    </tr>\n",
       "    <tr>\n",
       "      <th>7924</th>\n",
       "      <td>2020-03-22</td>\n",
       "      <td>Bahamas</td>\n",
       "      <td>Bahamas_</td>\n",
       "      <td>0</td>\n",
       "      <td>14.0</td>\n",
       "    </tr>\n",
       "    <tr>\n",
       "      <th>7925</th>\n",
       "      <td>2020-03-22</td>\n",
       "      <td>Gambia</td>\n",
       "      <td>Gambia_</td>\n",
       "      <td>0</td>\n",
       "      <td>48.0</td>\n",
       "    </tr>\n",
       "  </tbody>\n",
       "</table>\n",
       "<p>100 rows × 5 columns</p>\n",
       "</div>"
      ],
      "text/plain": [
       "           date      country                            country_prov  real  \\\n",
       "7823 2020-03-22           US                               US_Alaska    21   \n",
       "7824 2020-03-22           US                         US_South Dakota    21   \n",
       "7825 2020-03-22        Macao                             Macao_Macao    20   \n",
       "7826 2020-03-22    Australia  Australia_Australian Capital Territory    19   \n",
       "7827 2020-03-22       Canada                         Canada_Manitoba    19   \n",
       "...         ...          ...                                     ...   ...   \n",
       "7919 2020-03-22         Guam                                   Guam_     0   \n",
       "7922 2020-03-22  Puerto Rico                            Puerto Rico_     0   \n",
       "7923 2020-03-22     DR Congo                               DR Congo_     0   \n",
       "7924 2020-03-22      Bahamas                                Bahamas_     0   \n",
       "7925 2020-03-22       Gambia                                 Gambia_     0   \n",
       "\n",
       "      prediction  \n",
       "7823        47.0  \n",
       "7824        67.0  \n",
       "7825        68.0  \n",
       "7826         2.0  \n",
       "7827        38.0  \n",
       "...          ...  \n",
       "7919        46.0  \n",
       "7922        72.0  \n",
       "7923        64.0  \n",
       "7924        14.0  \n",
       "7925        48.0  \n",
       "\n",
       "[100 rows x 5 columns]"
      ]
     },
     "execution_count": 28,
     "metadata": {},
     "output_type": "execute_result"
    }
   ],
   "source": [
    "pred_test=pd.concat([train,predictions],0)\n",
    "pred_test['country']=countries\n",
    "pred_test['date']=dates\n",
    "pred_test['real']=data2[target_def]\n",
    "\n",
    "pred_test=pred_test[['date','country','country_prov','real',target_def]]\n",
    "pred_test.columns=['date','country','country_prov','real','prediction']\n",
    "\n",
    "pred_test.tail(100)"
   ]
  },
  {
   "cell_type": "code",
   "execution_count": 29,
   "metadata": {},
   "outputs": [
    {
     "name": "stdout",
     "output_type": "stream",
     "text": [
      "(3893, 4)\n"
     ]
    }
   ],
   "source": [
    "# in this case it is possible to plot by country in an aggregate form\n",
    "df_countrymax=pred_test.groupby(['date','country']).sum()\n",
    "df_countrymax.reset_index(inplace=True)\n",
    "print(df_countrymax.shape)"
   ]
  },
  {
   "cell_type": "code",
   "execution_count": 36,
   "metadata": {},
   "outputs": [
    {
     "name": "stdout",
     "output_type": "stream",
     "text": [
      "7\n"
     ]
    }
   ],
   "source": [
    "#country_name=df_countrymax.country.unique()\n",
    "country_name=['Kenya','Colombia','Italy','China', 'DR Congo','Spain','US']\n",
    "print(len(country_name))"
   ]
  },
  {
   "cell_type": "markdown",
   "metadata": {},
   "source": [
    "#### plot results"
   ]
  },
  {
   "cell_type": "code",
   "execution_count": 37,
   "metadata": {
    "scrolled": false
   },
   "outputs": [
    {
     "data": {
      "image/png": "[encoded data removed]",
      "text/plain": [
       "<Figure size 720x432 with 1 Axes>"
      ]
     },
     "metadata": {
      "needs_background": "light"
     },
     "output_type": "display_data"
    },
    {
     "data": {
      "image/png": "[encoded data removed]",
      "text/plain": [
       "<Figure size 720x432 with 1 Axes>"
      ]
     },
     "metadata": {
      "needs_background": "light"
     },
     "output_type": "display_data"
    },
    {
     "data": {
      "image/png": "[encoded data removed]",
      "text/plain": [
       "<Figure size 720x432 with 1 Axes>"
      ]
     },
     "metadata": {
      "needs_background": "light"
     },
     "output_type": "display_data"
    },
    {
     "data": {
      "image/png": "[encoded data removed]",
      "text/plain": [
       "<Figure size 720x432 with 1 Axes>"
      ]
     },
     "metadata": {
      "needs_background": "light"
     },
     "output_type": "display_data"
    },
    {
     "data": {
      "image/png": "[encoded data removed]",
      "text/plain": [
       "<Figure size 720x432 with 1 Axes>"
      ]
     },
     "metadata": {
      "needs_background": "light"
     },
     "output_type": "display_data"
    },
    {
     "data": {
      "image/png": "[encoded data removed]",
      "text/plain": [
       "<Figure size 720x432 with 1 Axes>"
      ]
     },
     "metadata": {
      "needs_background": "light"
     },
     "output_type": "display_data"
    },
    {
     "data": {
      "image/png": "[encoded data removed]",
      "text/plain": [
       "<Figure size 720x432 with 1 Axes>"
      ]
     },
     "metadata": {
      "needs_background": "light"
     },
     "output_type": "display_data"
    }
   ],
   "source": [
    "for name in country_name:\n",
    "    dt=df_countrymax[df_countrymax['country']==name]\n",
    "    country_plot(dt,name,x_size=10,y_size=6)"
   ]
  },
  {
   "cell_type": "code",
   "execution_count": null,
   "metadata": {},
   "outputs": [],
   "source": []
  }
 ],
 "metadata": {
  "kernelspec": {
   "display_name": "Python 3",
   "language": "python",
   "name": "python3"
  },
  "language_info": {
   "codemirror_mode": {
    "name": "ipython",
    "version": 3
   },
   "file_extension": ".py",
   "mimetype": "text/x-python",
   "name": "python",
   "nbconvert_exporter": "python",
   "pygments_lexer": "ipython3",
   "version": "3.7.4"
  }
 },
 "nbformat": 4,
 "nbformat_minor": 4
}
